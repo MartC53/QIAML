{
 "cells": [
  {
   "cell_type": "code",
   "execution_count": 1,
   "metadata": {},
   "outputs": [
    {
     "ename": "ModuleNotFoundError",
     "evalue": "No module named 'tensorflow'",
     "output_type": "error",
     "traceback": [
      "\u001b[0;31m---------------------------------------------------------------------------\u001b[0m",
      "\u001b[0;31mModuleNotFoundError\u001b[0m                       Traceback (most recent call last)",
      "Input \u001b[0;32mIn [1]\u001b[0m, in \u001b[0;36m<cell line: 1>\u001b[0;34m()\u001b[0m\n\u001b[0;32m----> 1\u001b[0m \u001b[38;5;28;01mimport\u001b[39;00m \u001b[38;5;21;01mtensorflow\u001b[39;00m \u001b[38;5;28;01mas\u001b[39;00m \u001b[38;5;21;01mtf\u001b[39;00m\n\u001b[1;32m      2\u001b[0m \u001b[38;5;28;01mimport\u001b[39;00m \u001b[38;5;21;01mtensorflow\u001b[39;00m\u001b[38;5;21;01m.\u001b[39;00m\u001b[38;5;21;01mkeras\u001b[39;00m \u001b[38;5;28;01mas\u001b[39;00m \u001b[38;5;21;01mkeras\u001b[39;00m\n\u001b[1;32m      3\u001b[0m \u001b[38;5;28;01mimport\u001b[39;00m \u001b[38;5;21;01mtensorflow\u001b[39;00m\u001b[38;5;21;01m.\u001b[39;00m\u001b[38;5;21;01mkeras\u001b[39;00m\u001b[38;5;21;01m.\u001b[39;00m\u001b[38;5;21;01mbackend\u001b[39;00m \u001b[38;5;28;01mas\u001b[39;00m \u001b[38;5;21;01mkeras_backend\u001b[39;00m\n",
      "\u001b[0;31mModuleNotFoundError\u001b[0m: No module named 'tensorflow'"
     ]
    }
   ],
   "source": [
    "import tensorflow as tf\n",
    "import tensorflow.keras as keras\n",
    "import tensorflow.keras.backend as keras_backend\n",
    "\n",
    "\n",
    "# Other dependencies\n",
    "import random\n",
    "import sys\n",
    "import time\n",
    "\n",
    "import numpy as np\n",
    "import matplotlib.pyplot as plt\n",
    "\n",
    "# Reproduction\n",
    "np.random.seed(53)"
   ]
  },
  {
   "cell_type": "code",
   "execution_count": 3,
   "metadata": {},
   "outputs": [
    {
     "ename": "ModuleNotFoundError",
     "evalue": "No module named 'cv2'",
     "output_type": "error",
     "traceback": [
      "\u001b[0;31m---------------------------------------------------------------------------\u001b[0m",
      "\u001b[0;31mModuleNotFoundError\u001b[0m                       Traceback (most recent call last)",
      "Input \u001b[0;32mIn [3]\u001b[0m, in \u001b[0;36m<cell line: 1>\u001b[0;34m()\u001b[0m\n\u001b[0;32m----> 1\u001b[0m \u001b[38;5;28;01mfrom\u001b[39;00m \u001b[38;5;21;01mqiaml\u001b[39;00m\u001b[38;5;21;01m.\u001b[39;00m\u001b[38;5;21;01mget_data\u001b[39;00m \u001b[38;5;28;01mimport\u001b[39;00m Dataset_from_directory\n\u001b[1;32m      5\u001b[0m group \u001b[38;5;241m=\u001b[39m \u001b[38;5;124m'\u001b[39m\u001b[38;5;124mCut\u001b[39m\u001b[38;5;124m'\u001b[39m\n\u001b[1;32m      6\u001b[0m data_dir \u001b[38;5;241m=\u001b[39m \u001b[38;5;124m'\u001b[39m\u001b[38;5;124m./cut_to_4/3_split_test\u001b[39m\u001b[38;5;124m'\u001b[39m\n",
      "File \u001b[0;32m/mnt/c/Users/Cole/Documents/Github/QIAML/qiaml/__init__.py:3\u001b[0m, in \u001b[0;36m<module>\u001b[0;34m\u001b[0m\n\u001b[1;32m      1\u001b[0m __version__ \u001b[38;5;241m=\u001b[39m \u001b[38;5;241m0.1\u001b[39m\n\u001b[0;32m----> 3\u001b[0m \u001b[38;5;28;01mfrom\u001b[39;00m \u001b[38;5;21;01m.\u001b[39;00m\u001b[38;5;21;01mautocrop\u001b[39;00m \u001b[38;5;28;01mimport\u001b[39;00m crop\n\u001b[1;32m      4\u001b[0m \u001b[38;5;28;01mfrom\u001b[39;00m \u001b[38;5;21;01m.\u001b[39;00m\u001b[38;5;21;01mget_data\u001b[39;00m \u001b[38;5;28;01mimport\u001b[39;00m \u001b[38;5;241m*\u001b[39m\n",
      "File \u001b[0;32m/mnt/c/Users/Cole/Documents/Github/QIAML/qiaml/autocrop.py:12\u001b[0m, in \u001b[0;36m<module>\u001b[0;34m\u001b[0m\n\u001b[1;32m      1\u001b[0m \u001b[38;5;66;03m# -*- coding: utf-8 -*-\u001b[39;00m\n\u001b[1;32m      2\u001b[0m \u001b[38;5;124;03m\"\"\"\u001b[39;00m\n\u001b[1;32m      3\u001b[0m \u001b[38;5;124;03mContains the several useful image analysis functions, specifically crop and\u001b[39;00m\n\u001b[1;32m      4\u001b[0m \u001b[38;5;124;03mapply_contrast.\u001b[39;00m\n\u001b[0;32m   (...)\u001b[0m\n\u001b[1;32m     10\u001b[0m \u001b[38;5;124;03mXuetao.\u001b[39;00m\n\u001b[1;32m     11\u001b[0m \u001b[38;5;124;03m\"\"\"\u001b[39;00m\n\u001b[0;32m---> 12\u001b[0m \u001b[38;5;28;01mimport\u001b[39;00m \u001b[38;5;21;01mcv2\u001b[39;00m \u001b[38;5;28;01mas\u001b[39;00m \u001b[38;5;21;01mcv2\u001b[39;00m\n\u001b[1;32m     13\u001b[0m \u001b[38;5;28;01mimport\u001b[39;00m \u001b[38;5;21;01mnumpy\u001b[39;00m \u001b[38;5;28;01mas\u001b[39;00m \u001b[38;5;21;01mnp\u001b[39;00m\n\u001b[1;32m     16\u001b[0m \u001b[38;5;28;01mdef\u001b[39;00m \u001b[38;5;21mcrop\u001b[39m(path\u001b[38;5;241m=\u001b[39m\u001b[38;5;28;01mNone\u001b[39;00m):\n",
      "\u001b[0;31mModuleNotFoundError\u001b[0m: No module named 'cv2'"
     ]
    }
   ],
   "source": [
    "from qiaml.get_data import Dataset_from_directory\n",
    "\n",
    "\n",
    "\n",
    "group = 'Cut'\n",
    "data_dir = './cut_to_4/3_split_test'\n",
    "predict_dir = './cut_to_4/3_split'\n",
    "\n",
    "train_ds, val_ds, pred_ds = Dataset_from_directory(data_dir, predict_dir, 0.5)\n",
    "\n",
    "model = tf.keras.models.load_model(group)\n"
   ]
  },
  {
   "cell_type": "code",
   "execution_count": 4,
   "metadata": {},
   "outputs": [],
   "source": [
    "def train_maml(model, epochs, dataset, lr_inner=0.01, batch_size=1, log_steps=1000):\n",
    "    '''Train using the MAML setup.\n",
    "    \n",
    "    The comments in this function that start with:\n",
    "        \n",
    "        Step X:\n",
    "        \n",
    "    Refer to a step described in the Algorithm 1 of the paper.\n",
    "    \n",
    "    Args:\n",
    "        model: A model.\n",
    "        epochs: Number of epochs used for training.\n",
    "        dataset: A dataset used for training.\n",
    "        lr_inner: Inner learning rate (alpha in Algorithm 1). Default value is 0.01.\n",
    "        batch_size: Batch size. Default value is 1. The paper does not specify\n",
    "            which value they use.\n",
    "        log_steps: At every `log_steps` a log message is printed.\n",
    "    \n",
    "    Returns:\n",
    "        A strong, fully-developed and trained maml.\n",
    "    '''\n",
    "    optimizer = keras.optimizers.Adam()\n",
    "    \n",
    "    # Step 2: instead of checking for convergence, we train for a number\n",
    "    # of epochs\n",
    "    for _ in range(epochs):\n",
    "        total_loss = 0\n",
    "        losses = []\n",
    "        start = time.time()\n",
    "        # Step 3 and 4\n",
    "        for i, t in enumerate(random.sample(dataset, len(dataset))):\n",
    "            x, y = np_to_tensor(t.batch())\n",
    "            model.forward(x)  # run forward pass to initialize weights\n",
    "            with tf.GradientTape() as test_tape:\n",
    "                # test_tape.watch(model.trainable_variables)\n",
    "                # Step 5\n",
    "                with tf.GradientTape() as train_tape:\n",
    "                    train_loss, _ = compute_loss(model, x, y)\n",
    "                # Step 6\n",
    "                gradients = train_tape.gradient(train_loss, model.trainable_variables)\n",
    "                k = 0\n",
    "                model_copy = copy_model(model, x)\n",
    "                for j in range(len(model_copy.layers)):\n",
    "                    model_copy.layers[j].kernel = tf.subtract(model.layers[j].kernel,\n",
    "                                tf.multiply(lr_inner, gradients[k]))\n",
    "                    model_copy.layers[j].bias = tf.subtract(model.layers[j].bias,\n",
    "                                tf.multiply(lr_inner, gradients[k+1]))\n",
    "                    k += 2\n",
    "                # Step 8\n",
    "                test_loss, logits = compute_loss(model_copy, x, y)\n",
    "            # Step 8\n",
    "            gradients = test_tape.gradient(test_loss, model.trainable_variables)\n",
    "            optimizer.apply_gradients(zip(gradients, model.trainable_variables))\n",
    "            \n",
    "            # Logs\n",
    "            total_loss += test_loss\n",
    "            loss = total_loss / (i+1.0)\n",
    "            losses.append(loss)\n",
    "            \n",
    "            if i % log_steps == 0 and i > 0:\n",
    "                print('Step {}: loss = {}, Time to run {} steps = {}'.format(i, loss, log_steps, time.time() - start))\n",
    "                start = time.time()\n",
    "        plt.plot(losses)\n",
    "        plt.show()"
   ]
  },
  {
   "cell_type": "code",
   "execution_count": 5,
   "metadata": {},
   "outputs": [
    {
     "ename": "NameError",
     "evalue": "name 'model' is not defined",
     "output_type": "error",
     "traceback": [
      "\u001b[0;31m---------------------------------------------------------------------------\u001b[0m",
      "\u001b[0;31mNameError\u001b[0m                                 Traceback (most recent call last)",
      "Input \u001b[0;32mIn [5]\u001b[0m, in \u001b[0;36m<cell line: 1>\u001b[0;34m()\u001b[0m\n\u001b[0;32m----> 1\u001b[0m maml \u001b[38;5;241m=\u001b[39m \u001b[43mmodel\u001b[49m()\n\u001b[1;32m      2\u001b[0m train_maml(maml, \u001b[38;5;241m1\u001b[39m, train_ds)\n",
      "\u001b[0;31mNameError\u001b[0m: name 'model' is not defined"
     ]
    }
   ],
   "source": [
    "maml = model()\n",
    "train_maml(maml, 1, train_ds)"
   ]
  }
 ],
 "metadata": {
  "accelerator": "GPU",
  "colab": {
   "collapsed_sections": [],
   "name": "maml.ipynb",
   "provenance": []
  },
  "kernelspec": {
   "display_name": "Python 3 (ipykernel)",
   "language": "python",
   "name": "python3"
  },
  "language_info": {
   "codemirror_mode": {
    "name": "ipython",
    "version": 3
   },
   "file_extension": ".py",
   "mimetype": "text/x-python",
   "name": "python",
   "nbconvert_exporter": "python",
   "pygments_lexer": "ipython3",
   "version": "3.9.7"
  }
 },
 "nbformat": 4,
 "nbformat_minor": 1
}
