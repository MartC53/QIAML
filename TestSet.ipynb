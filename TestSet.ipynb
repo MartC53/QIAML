{
 "cells": [
  {
   "cell_type": "code",
   "execution_count": 2,
   "id": "e1769004",
   "metadata": {},
   "outputs": [],
   "source": [
    "import numpy as np\n",
    "import tensorflow as tf\n",
    "from PIL import Image\n",
    "from tensorflow.keras.utils import image_dataset_from_directory"
   ]
  },
  {
   "cell_type": "code",
   "execution_count": 3,
   "id": "fee0d20c",
   "metadata": {},
   "outputs": [
    {
     "name": "stderr",
     "output_type": "stream",
     "text": [
      "2022-03-15 09:46:10.736950: W tensorflow/stream_executor/platform/default/dso_loader.cc:64] Could not load dynamic library 'libcuda.so.1'; dlerror: libcuda.so.1: cannot open shared object file: No such file or directory\n",
      "2022-03-15 09:46:10.736995: W tensorflow/stream_executor/cuda/cuda_driver.cc:269] failed call to cuInit: UNKNOWN ERROR (303)\n",
      "2022-03-15 09:46:10.737013: I tensorflow/stream_executor/cuda/cuda_diagnostics.cc:156] kernel driver does not appear to be running on this host (DESKTOP-FNNK0RR): /proc/driver/nvidia/version does not exist\n",
      "2022-03-15 09:46:10.737190: I tensorflow/core/platform/cpu_feature_guard.cc:142] This TensorFlow binary is optimized with oneAPI Deep Neural Network Library (oneDNN) to use the following CPU instructions in performance-critical operations:  AVX2 FMA\n",
      "To enable them in other operations, rebuild TensorFlow with the appropriate compiler flags.\n"
     ]
    }
   ],
   "source": [
    "model = tf.keras.models.load_model('finalcnn')"
   ]
  },
  {
   "cell_type": "code",
   "execution_count": null,
   "id": "b1ff688d",
   "metadata": {},
   "outputs": [],
   "source": []
  },
  {
   "cell_type": "code",
   "execution_count": 7,
   "id": "dfd29649",
   "metadata": {},
   "outputs": [
    {
     "name": "stdout",
     "output_type": "stream",
     "text": [
      "Found 7 files belonging to 7 classes.\n"
     ]
    }
   ],
   "source": [
    "group = 'A'\n",
    "\n",
    "predict_dir = './Datasets/cropped_jpgs/3_split_test2/'\n",
    "pred_ds= image_dataset_from_directory(\n",
    "\t\tpredict_dir,\n",
    "\t\tseed = 53,\n",
    "\t\timage_size=(900, 900))"
   ]
  },
  {
   "cell_type": "code",
   "execution_count": 8,
   "id": "b027587d",
   "metadata": {},
   "outputs": [
    {
     "ename": "NameError",
     "evalue": "name 'Dataset_from_directory' is not defined",
     "output_type": "error",
     "traceback": [
      "\u001b[0;31m---------------------------------------------------------------------------\u001b[0m",
      "\u001b[0;31mNameError\u001b[0m                                 Traceback (most recent call last)",
      "Input \u001b[0;32mIn [8]\u001b[0m, in \u001b[0;36m<cell line: 1>\u001b[0;34m()\u001b[0m\n\u001b[0;32m----> 1\u001b[0m train_ds, val_ds, pred_ds \u001b[38;5;241m=\u001b[39m \u001b[43mDataset_from_directory\u001b[49m(data_dir, predict_dir, \u001b[38;5;241m0.5\u001b[39m)\n",
      "\u001b[0;31mNameError\u001b[0m: name 'Dataset_from_directory' is not defined"
     ]
    }
   ],
   "source": [
    "train_ds, val_ds, pred_ds = Dataset_from_directory(data_dir, predict_dir, 0.5)\n"
   ]
  },
  {
   "cell_type": "code",
   "execution_count": 9,
   "id": "44757c9e",
   "metadata": {},
   "outputs": [
    {
     "name": "stderr",
     "output_type": "stream",
     "text": [
      "2022-03-15 09:47:54.181574: I tensorflow/compiler/mlir/mlir_graph_optimization_pass.cc:185] None of the MLIR Optimization Passes are enabled (registered 2)\n"
     ]
    },
    {
     "name": "stdout",
     "output_type": "stream",
     "text": [
      "[[-65.16284   114.49102   -14.806055 ]\n",
      " [-81.861435  144.63742   -18.374292 ]\n",
      " [-30.74814    55.539524   -6.590116 ]\n",
      " [-63.013252  112.5339    -13.7023945]\n",
      " [-73.23401   129.50761   -16.238672 ]\n",
      " [-32.749763   58.889465   -7.0123763]\n",
      " [-73.14404   129.90712   -16.112093 ]]\n"
     ]
    }
   ],
   "source": [
    "predictions_single = model.predict(pred_ds)\n",
    "\n",
    "print(predictions_single)"
   ]
  },
  {
   "cell_type": "code",
   "execution_count": null,
   "id": "ed13fca5",
   "metadata": {},
   "outputs": [],
   "source": []
  }
 ],
 "metadata": {
  "kernelspec": {
   "display_name": "Python 3 (ipykernel)",
   "language": "python",
   "name": "python3"
  },
  "language_info": {
   "codemirror_mode": {
    "name": "ipython",
    "version": 3
   },
   "file_extension": ".py",
   "mimetype": "text/x-python",
   "name": "python",
   "nbconvert_exporter": "python",
   "pygments_lexer": "ipython3",
   "version": "3.9.10"
  }
 },
 "nbformat": 4,
 "nbformat_minor": 5
}
