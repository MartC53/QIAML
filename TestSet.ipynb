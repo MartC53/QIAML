{
 "cells": [
  {
   "cell_type": "code",
   "execution_count": 2,
   "id": "e1769004",
   "metadata": {},
   "outputs": [
    {
     "name": "stderr",
     "output_type": "stream",
     "text": [
      "2022-03-15 00:36:30.810257: W tensorflow/stream_executor/platform/default/dso_loader.cc:64] Could not load dynamic library 'libcudart.so.11.0'; dlerror: libcudart.so.11.0: cannot open shared object file: No such file or directory\n",
      "2022-03-15 00:36:30.810304: I tensorflow/stream_executor/cuda/cudart_stub.cc:29] Ignore above cudart dlerror if you do not have a GPU set up on your machine.\n"
     ]
    }
   ],
   "source": [
    "import numpy as np\n",
    "import tensorflow as tf\n",
    "from PIL import Image\n",
    "from tensorflow.keras.utils import image_dataset_from_directory"
   ]
  },
  {
   "cell_type": "code",
   "execution_count": 3,
   "id": "fee0d20c",
   "metadata": {},
   "outputs": [
    {
     "name": "stderr",
     "output_type": "stream",
     "text": [
      "2022-03-15 00:36:32.489965: W tensorflow/stream_executor/platform/default/dso_loader.cc:64] Could not load dynamic library 'libcuda.so.1'; dlerror: libcuda.so.1: cannot open shared object file: No such file or directory\n",
      "2022-03-15 00:36:32.490011: W tensorflow/stream_executor/cuda/cuda_driver.cc:269] failed call to cuInit: UNKNOWN ERROR (303)\n",
      "2022-03-15 00:36:32.490031: I tensorflow/stream_executor/cuda/cuda_diagnostics.cc:156] kernel driver does not appear to be running on this host (DESKTOP-FNNK0RR): /proc/driver/nvidia/version does not exist\n",
      "2022-03-15 00:36:32.490241: I tensorflow/core/platform/cpu_feature_guard.cc:142] This TensorFlow binary is optimized with oneAPI Deep Neural Network Library (oneDNN) to use the following CPU instructions in performance-critical operations:  AVX2 FMA\n",
      "To enable them in other operations, rebuild TensorFlow with the appropriate compiler flags.\n"
     ]
    }
   ],
   "source": [
    "model = tf.keras.models.load_model('classifier 3_split_final')"
   ]
  },
  {
   "cell_type": "code",
   "execution_count": null,
   "id": "b1ff688d",
   "metadata": {},
   "outputs": [],
   "source": []
  },
  {
   "cell_type": "code",
   "execution_count": 5,
   "id": "dfd29649",
   "metadata": {},
   "outputs": [
    {
     "name": "stdout",
     "output_type": "stream",
     "text": [
      "Found 7 files belonging to 7 classes.\n"
     ]
    }
   ],
   "source": [
    "group = 'A'\n",
    "\n",
    "predict_dir = './Datasets/cropped_jpgs/A'\n",
    "pred_ds= image_dataset_from_directory(\n",
    "\t\tpredict_dir,\n",
    "\t\tseed = 53,\n",
    "\t\timage_size=(900, 900))"
   ]
  },
  {
   "cell_type": "code",
   "execution_count": 24,
   "id": "b027587d",
   "metadata": {},
   "outputs": [
    {
     "name": "stdout",
     "output_type": "stream",
     "text": [
      "Found 12 files belonging to 3 classes.\n",
      "Found 12 files belonging to 3 classes.\n",
      "Using 6 files for validation.\n",
      "Found 7 files belonging to 7 classes.\n"
     ]
    }
   ],
   "source": [
    "train_ds, val_ds, pred_ds = Dataset_from_directory(data_dir, predict_dir, 0.5)\n"
   ]
  },
  {
   "cell_type": "code",
   "execution_count": 25,
   "id": "44757c9e",
   "metadata": {},
   "outputs": [
    {
     "name": "stdout",
     "output_type": "stream",
     "text": [
      "[[-51.13059    -7.890148   53.381325 ]\n",
      " [-64.18761    -9.460575   67.19864  ]\n",
      " [-24.411373   -2.9346306  26.46864  ]\n",
      " [-49.42653    -6.6155987  52.84129  ]\n",
      " [-57.19738    -8.467322   60.23824  ]\n",
      " [-25.77116    -3.193062   27.990177 ]\n",
      " [-57.336235   -8.230027   60.627605 ]]\n"
     ]
    }
   ],
   "source": [
    "predictions_single = model.predict(pred_ds)\n",
    "\n",
    "print(predictions_single)"
   ]
  },
  {
   "cell_type": "code",
   "execution_count": null,
   "id": "ed13fca5",
   "metadata": {},
   "outputs": [],
   "source": []
  }
 ],
 "metadata": {
  "kernelspec": {
   "display_name": "Python 3 (ipykernel)",
   "language": "python",
   "name": "python3"
  },
  "language_info": {
   "codemirror_mode": {
    "name": "ipython",
    "version": 3
   },
   "file_extension": ".py",
   "mimetype": "text/x-python",
   "name": "python",
   "nbconvert_exporter": "python",
   "pygments_lexer": "ipython3",
   "version": "3.9.10"
  }
 },
 "nbformat": 4,
 "nbformat_minor": 5
}
