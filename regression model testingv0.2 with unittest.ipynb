{
 "cells": [
  {
   "cell_type": "code",
   "execution_count": 25,
   "id": "169b9c7d",
   "metadata": {
    "scrolled": true
   },
   "outputs": [],
   "source": [
    "import numpy as np\n",
    "import PIL.Image as Image\n",
    "import cv2\n",
    "import os\n",
    "import matplotlib.pyplot as plt\n",
    "#Try with decision trees\n",
    "import sklearn         \n",
    "from sklearn import linear_model, datasets\n",
    "from sklearn.utils import resample\n",
    "from sklearn import tree\n",
    "from sklearn.tree import DecisionTreeRegressor, DecisionTreeClassifier\n",
    "from sklearn.ensemble import BaggingClassifier, RandomForestClassifier, GradientBoostingClassifier\n",
    "from sklearn.model_selection import train_test_split\n",
    "from sklearn.metrics import r2_score, mean_squared_error, accuracy_score"
   ]
  },
  {
   "cell_type": "code",
   "execution_count": 26,
   "id": "d6f8a35b",
   "metadata": {},
   "outputs": [
    {
     "name": "stdout",
     "output_type": "stream",
     "text": [
      "The autoreload extension is already loaded. To reload it, use:\n",
      "  %reload_ext autoreload\n"
     ]
    }
   ],
   "source": [
    "# Pandas library for the pandas dataframes\n",
    "import pandas as pd    \n",
    "\n",
    "# Import Scikit-Learn library for the regression models\n",
    "import sklearn         \n",
    "from sklearn import linear_model, datasets\n",
    "from sklearn.model_selection import train_test_split\n",
    "from sklearn.metrics import mean_squared_error, r2_score\n",
    "\n",
    "# Import numpy \n",
    "import numpy as np\n",
    "\n",
    "# Import plotting libraries\n",
    "import seaborn as sns\n",
    "import matplotlib \n",
    "from matplotlib import pyplot as plt\n",
    "\n",
    "# Set larger fontsize for all plots\n",
    "matplotlib.rcParams.update({'font.size': 18})\n",
    "\n",
    "# Command to automatically reload modules before executing cells\n",
    "# not needed here but might be if you are writing your own library \n",
    "%load_ext autoreload\n",
    "%autoreload 2"
   ]
  },
  {
   "cell_type": "code",
   "execution_count": 27,
   "id": "312e3043",
   "metadata": {
    "scrolled": true
   },
   "outputs": [],
   "source": [
    "import tifffile as tiff"
   ]
  },
  {
   "cell_type": "code",
   "execution_count": 28,
   "id": "08e5f31c",
   "metadata": {},
   "outputs": [],
   "source": [
    "tiffpath = '4-28-21 Expt2L.tif'"
   ]
  },
  {
   "cell_type": "code",
   "execution_count": 29,
   "id": "1aaa2e97",
   "metadata": {},
   "outputs": [],
   "source": [
    "\n",
    "def tif_to_mat(tiffpath):\n",
    "    im1 = tiff.imread(tiffpath)\n",
    "    layer,xmax,ymax = im1.shape\n",
    "    array_avg = []\n",
    "    arr_max = []\n",
    "    arr_min = []\n",
    "    tl_corner = []\n",
    "    br_corner = []\n",
    "    bl_corner = []\n",
    "    tr_corner = []\n",
    "    meandiff = []\n",
    "    stv_ar = []\n",
    "    \n",
    "    xmax = xmax - 1\n",
    "    ymax = ymax - 1\n",
    "    for ii in im1:\n",
    "        tl_corner = (ii[0,0])\n",
    "        br_corner = (ii[xmax,ymax])\n",
    "        bl_corner = (ii[xmax,0])\n",
    "        tr_corner = (ii[0,ymax])\n",
    "        #array_avg.append(ii.mean())\n",
    "        meanres = ii.mean()\n",
    "        norm_mean = meanres/(tl_corner+br_corner+bl_corner+tr_corner)*4\n",
    "        array_avg.append(norm_mean)\n",
    "        #array_avg = array_avg/(tl_corner+br_corner+bl_corner+tr_corner)*4\n",
    "        arr_max.append(ii.max() / im1[0].max())\n",
    "        arr_min.append(ii.min() / im1[0].min())\n",
    "        allstv = np.std(ii)\n",
    "        stv_ar.append(allstv)\n",
    "        \n",
    "        picdiff = ii - im1[0]\n",
    "        #print(picdiff)\n",
    "        #tl_corner = (picdiff[0,0])\n",
    "        ##br_corner = (picdiff[xmax,ymax])\n",
    "        #bl_corner = (picdiff[xmax,0])\n",
    "        #tr_corner = (picdiff[0,ymax])\n",
    "        \n",
    "        \n",
    "        #norm_value = (tl_corner+br_corner+bl_corner+tr_corner)\n",
    "        #if norm_value!= 0:\n",
    "        #    norm_mean_diff = picdiff.mean()*4/norm_value\n",
    "        #else:\n",
    "        #    norm_mean_diff = 0\n",
    "        meandiff.append(picdiff.mean())\n",
    "        \n",
    "    #print(np.shape(array_avg))\n",
    "    aindexs = np.arange(0,1200,1)\n",
    "    marrays = [aindexs,array_avg,arr_max,arr_min,meandiff,stv_ar]\n",
    "    rsars = np.array(marrays)\n",
    "    newshape = rsars.transpose()\n",
    "    \n",
    "    return newshape"
   ]
  },
  {
   "cell_type": "code",
   "execution_count": 80,
   "id": "6f88c792",
   "metadata": {},
   "outputs": [],
   "source": [
    "tiffpath = 'All/30 cps/4-14-21 Expt 2L.tif'"
   ]
  },
  {
   "cell_type": "code",
   "execution_count": 81,
   "id": "8533f44e",
   "metadata": {},
   "outputs": [],
   "source": [
    "im1 = tiff.imread(tiffpath)"
   ]
  },
  {
   "cell_type": "code",
   "execution_count": 82,
   "id": "3fedf056",
   "metadata": {},
   "outputs": [
    {
     "data": {
      "text/plain": [
       "206.88093129818975"
      ]
     },
     "execution_count": 82,
     "metadata": {},
     "output_type": "execute_result"
    }
   ],
   "source": [
    "np.std(im1[0])"
   ]
  },
  {
   "cell_type": "code",
   "execution_count": 73,
   "id": "a7c03b9e",
   "metadata": {},
   "outputs": [],
   "source": [
    "im1 = tiff.imread(tiffpath)"
   ]
  },
  {
   "cell_type": "code",
   "execution_count": 74,
   "id": "b03e77af",
   "metadata": {
    "scrolled": true
   },
   "outputs": [
    {
     "data": {
      "text/plain": [
       "5015"
      ]
     },
     "execution_count": 74,
     "metadata": {},
     "output_type": "execute_result"
    }
   ],
   "source": [
    "im1[0].max()"
   ]
  },
  {
   "cell_type": "code",
   "execution_count": 79,
   "id": "106f29b0",
   "metadata": {
    "scrolled": true
   },
   "outputs": [
    {
     "data": {
      "text/plain": [
       "(1200, 6)"
      ]
     },
     "execution_count": 79,
     "metadata": {},
     "output_type": "execute_result"
    }
   ],
   "source": [
    "newshape = tif_to_mat(tiffpath)\n",
    "np.shape(newshape)"
   ]
  },
  {
   "cell_type": "code",
   "execution_count": 84,
   "id": "9d1c6984",
   "metadata": {},
   "outputs": [
    {
     "name": "stderr",
     "output_type": "stream",
     "text": [
      ".\n",
      "----------------------------------------------------------------------\n",
      "Ran 1 test in 0.771s\n",
      "\n",
      "OK\n"
     ]
    }
   ],
   "source": [
    "import unittest\n",
    "\n",
    "class Test_tiffsize(unittest.TestCase):\n",
    "\n",
    "    #We can test if the input tiff images have same size\n",
    "    def test_failure(self):\n",
    "        tiffpath1 = 'All/30 cps/4-14-21 Expt 2R.tif'\n",
    "        tiffpath2 = 'All/30 cps/4-14-21 Expt 2R.tif'\n",
    "        newshape1 = tif_to_mat(tiffpath1)\n",
    "        newshape2 = tif_to_mat(tiffpath2)\n",
    "        assert np.shape(newshape1) == np.shape(newshape2), 'The images have different size'\n",
    "        \n",
    "suite = unittest.TestLoader().loadTestsFromTestCase(Test_tiffsize)\n",
    "_ = unittest.TextTestRunner().run(suite)"
   ]
  },
  {
   "cell_type": "code",
   "execution_count": 66,
   "id": "4bc018b6",
   "metadata": {},
   "outputs": [],
   "source": [
    "df = pd.DataFrame(newshape, columns = ['image ID','Average Value','maximum','arr_min','meandiff','stdev'])\n",
    "#X = df.loc[:, df.columns!='image ID']\n",
    "X = df['meandiff'].values.reshape(-1, 1)\n",
    "y = df['image ID'].values.reshape(-1, 1)\n",
    "X_train, X_test, y_train, y_test = train_test_split(X, y, test_size=0.3, random_state=98, shuffle=True)"
   ]
  },
  {
   "cell_type": "code",
   "execution_count": 67,
   "id": "b6491aa5",
   "metadata": {},
   "outputs": [
    {
     "data": {
      "image/png": "[encoded data removed]",
      "text/plain": [
       "<Figure size 432x288 with 1 Axes>"
      ]
     },
     "metadata": {
      "needs_background": "light"
     },
     "output_type": "display_data"
    }
   ],
   "source": [
    "# Using the pandas plot.scatter\n",
    "df.plot.scatter('image ID', 'meandiff', s=100, marker='.', color=\"crimson\")\n",
    "plt.show()"
   ]
  },
  {
   "cell_type": "code",
   "execution_count": 42,
   "id": "48f900e2",
   "metadata": {},
   "outputs": [
    {
     "data": {
      "text/plain": [
       "(840, 1)"
      ]
     },
     "execution_count": 42,
     "metadata": {},
     "output_type": "execute_result"
    }
   ],
   "source": [
    "X_train.shape"
   ]
  },
  {
   "cell_type": "code",
   "execution_count": 85,
   "id": "fc9e0994",
   "metadata": {},
   "outputs": [],
   "source": [
    "# Declare regressor object & train it\n",
    "def regr_func (X_train,y_train,depths):\n",
    "    regr = DecisionTreeRegressor(random_state=0,max_depth=depths)\n",
    "    regr.fit(X_train, y_train)\n",
    "    y_pred = regr.predict(X_test)\n",
    "    MSE = mean_squared_error(y_test, y_pred)\n",
    "    R2 = r2_score(y_test, y_pred)\n",
    "    #print(\"Prediction accuracy MSE: \", MSE)\n",
    "    #print(\"R2 score: \", R2)\n",
    "    return MSE,R2"
   ]
  },
  {
   "cell_type": "code",
   "execution_count": 86,
   "id": "a411c012",
   "metadata": {},
   "outputs": [
    {
     "data": {
      "text/plain": [
       "array([ 1,  2,  3,  4,  5,  6,  7,  8,  9, 10, 11, 12, 13, 14, 15, 16, 17,\n",
       "       18, 19, 20, 21, 22, 23, 24, 25, 26, 27, 28, 29])"
      ]
     },
     "execution_count": 86,
     "metadata": {},
     "output_type": "execute_result"
    }
   ],
   "source": [
    "np.arange(1,30,1)"
   ]
  },
  {
   "cell_type": "code",
   "execution_count": 87,
   "id": "9d3764e6",
   "metadata": {
    "scrolled": true
   },
   "outputs": [
    {
     "name": "stdout",
     "output_type": "stream",
     "text": [
      "MSE: [15283.966964393683, 12788.648143053979, 13627.989400473229, 16126.685288929888, 17879.28517423869, 19224.215436647868, 19946.65419557823, 20256.583505658436, 20458.67058950617, 20776.02249228395, 21112.255555555555, 21112.255555555555, 21112.255555555555, 21112.255555555555, 21112.255555555555, 21112.255555555555, 21112.255555555555, 21112.255555555555, 21112.255555555555]\n",
      "R2: [0.8705664700664525, 0.891698282514624, 0.8845902521178215, 0.8634298406993179, 0.848587804581004, 0.8371981521574143, 0.8310801201735054, 0.8284554583480117, 0.826744067275437, 0.8240565466138609, 0.8212091292934101, 0.8212091292934101, 0.8212091292934101, 0.8212091292934101, 0.8212091292934101, 0.8212091292934101, 0.8212091292934101, 0.8212091292934101, 0.8212091292934101]\n"
     ]
    }
   ],
   "source": [
    "depths_array = np.arange(2,40,2)\n",
    "MSE_array = []\n",
    "R2_array = []\n",
    "\n",
    "for dps in depths_array:\n",
    "    res = regr_func (X_train,y_train,dps)\n",
    "    MSE_array.append(res[0])\n",
    "    R2_array.append(res[1])\n",
    "    \n",
    "print('MSE:',MSE_array)\n",
    "print('R2:',R2_array)"
   ]
  },
  {
   "cell_type": "code",
   "execution_count": 93,
   "id": "46fcf6e0",
   "metadata": {
    "scrolled": true
   },
   "outputs": [],
   "source": [
    "MSEmin = np.argmin(MSE_array)\n",
    "R2max = np.argmax(R2_array)"
   ]
  },
  {
   "cell_type": "code",
   "execution_count": 89,
   "id": "46f6f010",
   "metadata": {},
   "outputs": [
    {
     "name": "stdout",
     "output_type": "stream",
     "text": [
      "MSE: 12788.648143053979\n",
      "R2: 0.891698282514624\n"
     ]
    }
   ],
   "source": [
    "print('MSE:',min(MSE_array))\n",
    "print('R2:',max(R2_array))"
   ]
  },
  {
   "cell_type": "code",
   "execution_count": 95,
   "id": "64d8bfe8",
   "metadata": {},
   "outputs": [
    {
     "name": "stderr",
     "output_type": "stream",
     "text": [
      ".\n",
      "----------------------------------------------------------------------\n",
      "Ran 1 test in 0.030s\n",
      "\n",
      "OK\n"
     ]
    }
   ],
   "source": [
    "import unittest\n",
    "\n",
    "class Test_lowestmse(unittest.TestCase):\n",
    "\n",
    "    #We can test if the max_depth value used is the most accurate one\n",
    "    def test_failure(self):\n",
    "        depths_array = np.arange(2,40,2)\n",
    "        MSE_array = []\n",
    "        R2_array = []\n",
    "\n",
    "        for dps in depths_array:\n",
    "            res = regr_func (X_train,y_train,dps)\n",
    "            MSE_array.append(res[0])\n",
    "            R2_array.append(res[1])\n",
    "        assert min(MSE_array) < max(MSE_array), 'The max_depth value was not correct'\n",
    "        \n",
    "suite = unittest.TestLoader().loadTestsFromTestCase(Test_lowestmse)\n",
    "_ = unittest.TextTestRunner().run(suite)"
   ]
  },
  {
   "cell_type": "code",
   "execution_count": 48,
   "id": "add8bf52",
   "metadata": {},
   "outputs": [
    {
     "name": "stdout",
     "output_type": "stream",
     "text": [
      "1 1\n"
     ]
    }
   ],
   "source": [
    "print(MSEmin,R2max)"
   ]
  },
  {
   "cell_type": "code",
   "execution_count": 49,
   "id": "adb65e0a",
   "metadata": {},
   "outputs": [
    {
     "data": {
      "text/plain": [
       "4"
      ]
     },
     "execution_count": 49,
     "metadata": {},
     "output_type": "execute_result"
    }
   ],
   "source": [
    "depths_array[MSEmin]"
   ]
  },
  {
   "cell_type": "code",
   "execution_count": 90,
   "id": "35e4c54e",
   "metadata": {},
   "outputs": [
    {
     "data": {
      "text/plain": [
       "Text(0.5, 1.0, 'Decision Tree Regressor Accuracy Dependence on Depths')"
      ]
     },
     "execution_count": 90,
     "metadata": {},
     "output_type": "execute_result"
    },
    {
     "data": {
      "image/png": "[encoded data removed]",
      "text/plain": [
       "<Figure size 576x288 with 1 Axes>"
      ]
     },
     "metadata": {
      "needs_background": "light"
     },
     "output_type": "display_data"
    }
   ],
   "source": [
    "fig = plt.figure(figsize=[8,4])\n",
    "plt.plot(depths_array,MSE_array,'.-')\n",
    "plt.yscale('log')\n",
    "plt.xlabel('maximum depths')\n",
    "plt.ylabel('Mean Square Error')\n",
    "plt.title('Decision Tree Regressor Accuracy Dependence on Depths')"
   ]
  },
  {
   "cell_type": "code",
   "execution_count": 91,
   "id": "169f151f",
   "metadata": {},
   "outputs": [],
   "source": [
    "#Using the best depth for model:\n",
    "#train the model \n",
    "regr = DecisionTreeRegressor(random_state=0,max_depth=depths_array[MSEmin])\n",
    "regr.fit(X_train, y_train)\n",
    "y_pred = regr.predict(X_test)\n",
    "MSE = mean_squared_error(y_test, y_pred)\n",
    "R2 = r2_score(y_test, y_pred)"
   ]
  },
  {
   "cell_type": "code",
   "execution_count": 53,
   "id": "006b8638",
   "metadata": {},
   "outputs": [
    {
     "name": "stdout",
     "output_type": "stream",
     "text": [
      "12788.648143053979 0.891698282514624\n"
     ]
    }
   ],
   "source": [
    "print(MSE,R2)"
   ]
  },
  {
   "cell_type": "code",
   "execution_count": 54,
   "id": "0e187fcc",
   "metadata": {},
   "outputs": [
    {
     "data": {
      "image/png": "[encoded data removed]",
      "text/plain": [
       "<Figure size 360x360 with 1 Axes>"
      ]
     },
     "metadata": {
      "needs_background": "light"
     },
     "output_type": "display_data"
    }
   ],
   "source": [
    "plt.figure(figsize=(5,5))\n",
    "plt.plot(y_test, y_pred,'*', color='royalblue', label=\"predicted\")\n",
    "plt.plot(y_pred, y_pred,'-', color='red', label=\"ideal\")\n",
    "plt.xlabel('y test set')\n",
    "plt.ylabel('y predicted')\n",
    "plt.legend()\n",
    "plt.show()"
   ]
  },
  {
   "cell_type": "code",
   "execution_count": 144,
   "id": "d5e5a36b",
   "metadata": {},
   "outputs": [],
   "source": [
    "path2 = 'All/10,000 cps/4-28-21 Expt2R.tif'"
   ]
  },
  {
   "cell_type": "code",
   "execution_count": 145,
   "id": "7a01ae9b",
   "metadata": {},
   "outputs": [],
   "source": [
    "mat2 = tif_to_mat(path2)"
   ]
  },
  {
   "cell_type": "code",
   "execution_count": 109,
   "id": "68aede8a",
   "metadata": {},
   "outputs": [],
   "source": [
    "def foldername_sorting(foldername):\n",
    "    list_names = os.listdir(foldername)\n",
    "    datas = []\n",
    "    pathes = []\n",
    "    imname_all = []\n",
    "    pathes_only = []\n",
    "    names_inter = []\n",
    "    i=0\n",
    "    for names in list_names:\n",
    "        imanames = os.listdir(foldername+'/'+names)\n",
    "        for j in range(0,len(imanames)+1):\n",
    "            try:\n",
    "                pathes.append(foldername+'/'+names+'/'+imanames[j])\n",
    "                imname_all.append(imanames[j])\n",
    "                pathes_only.append(foldername+'/'+names)\n",
    "                names_inter.append(names)\n",
    "            except:\n",
    "                pass\n",
    "        #datas.append(cv2.imread(upper_foldername+foldername+'/'+names+'/'+imanames[0]))\n",
    "        i+=1\n",
    "    return pathes,imname_all,pathes_only,names_inter"
   ]
  },
  {
   "cell_type": "code",
   "execution_count": 113,
   "id": "557e721e",
   "metadata": {},
   "outputs": [],
   "source": [
    "pathes,imname_all,pathes_only,names_inter = foldername_sorting('All')"
   ]
  },
  {
   "cell_type": "code",
   "execution_count": 114,
   "id": "47413852",
   "metadata": {},
   "outputs": [
    {
     "name": "stdout",
     "output_type": "stream",
     "text": [
      "['All/100,000 cps/4-12-21 Expt 1.tif', 'All/100,000 cps/4-12-21 Expt 2L.tif', 'All/100,000 cps/4-12-21 Expt 2R.tif', 'All/30,000 cps/4-28-21 Expt 3R.tif', 'All/30,000 cps/4-12-21 Expt 3R.tif', 'All/100 cps/4-13-21 Expt 2L.tif', 'All/100 cps/4-14-21 Expt 1L.tif', 'All/300 cps/4-13-21 Expt 4L.tif', 'All/300 cps/4-13-21 Expt 3L.tif', 'All/300 cps/4-13-21 Expt 3R.tif', 'All/10,000 cps/4-28-21 Expt2R.tif', 'All/10,000 cps/4-28-21 Expt 1R.tif', 'All/10,000 cps/on 150ul pad, 1e4_5Avg.tif', 'All/10,000 cps/4-28-21 Expt2L.tif', 'All/3,000 cps/4-12-21 Expt 4L.tif', 'All/3,000 cps/4-28-21 Expt 3L.tif', 'All/3,000 cps/4-12-21 Expt 4R.tif', 'All/30 cps/4-14-21 Expt 2L.tif', 'All/30 cps/4-14-21 Expt 1L.tif', 'All/30 cps/4-14-21 Expt 2R.tif', 'All/1,000 cps/4-13-21 Expt 1R.tif', 'All/1,000 cps/4-12-21 Expt 3L.tif', 'All/1,000 cps/4-13-21 Expt 1L.tif'] ['100,000 cps', '100,000 cps', '100,000 cps', '30,000 cps', '30,000 cps', '100 cps', '100 cps', '300 cps', '300 cps', '300 cps', '10,000 cps', '10,000 cps', '10,000 cps', '10,000 cps', '3,000 cps', '3,000 cps', '3,000 cps', '30 cps', '30 cps', '30 cps', '1,000 cps', '1,000 cps', '1,000 cps']\n"
     ]
    }
   ],
   "source": [
    "print(pathes,names_inter)"
   ]
  },
  {
   "cell_type": "code",
   "execution_count": 135,
   "id": "d8ceee18",
   "metadata": {},
   "outputs": [
    {
     "name": "stderr",
     "output_type": "stream",
     "text": [
      ".\n",
      "----------------------------------------------------------------------\n",
      "Ran 1 test in 0.002s\n",
      "\n",
      "OK\n"
     ]
    }
   ],
   "source": [
    "import unittest\n",
    "\n",
    "class Test_pathsize(unittest.TestCase):\n",
    "\n",
    "    #We can test if the input path size is correct\n",
    "    def test_failure(self):\n",
    "        def foldername_sorting(foldername):\n",
    "            list_names = os.listdir(foldername)\n",
    "            datas = []\n",
    "            pathes = []\n",
    "            imname_all = []\n",
    "            pathes_only = []\n",
    "            names_inter = []\n",
    "            i=0\n",
    "            for names in list_names:\n",
    "                imanames = os.listdir(foldername+'/'+names)\n",
    "                for j in range(0,len(imanames)+1):\n",
    "                    try:\n",
    "                        pathes.append(foldername+'/'+names+'/'+imanames[j])\n",
    "                        imname_all.append(imanames[j])\n",
    "                        pathes_only.append(foldername+'/'+names)\n",
    "                        names_inter.append(names)\n",
    "                    except:\n",
    "                        pass\n",
    "                i+=1\n",
    "            return pathes,imname_all,pathes_only,names_inter\n",
    "        assert len(pathes) == len(pathes_only), 'The path numbers are incorrect'\n",
    "        \n",
    "suite = unittest.TestLoader().loadTestsFromTestCase(Test_pathsize)\n",
    "_ = unittest.TextTestRunner().run(suite)"
   ]
  },
  {
   "cell_type": "code",
   "execution_count": 137,
   "id": "bca4ad8e",
   "metadata": {},
   "outputs": [],
   "source": [
    "trainnames = []\n",
    "trainpath = []\n",
    "traincps = []\n",
    "testnames = []\n",
    "testpath = []\n",
    "testcps = []\n",
    "i=0\n",
    "for names in imname_all:\n",
    "    if 'L' in names:\n",
    "        trainnames.append(names)\n",
    "        trainpath.append(pathes[i])\n",
    "        traincps.append(names_inter[i])\n",
    "        \n",
    "    elif 'R' in names:\n",
    "        testnames.append(names)\n",
    "        testpath.append(pathes[i])\n",
    "        testcps.append(names_inter[i])\n",
    "    else:\n",
    "        pass\n",
    "    \n",
    "    i += 1"
   ]
  },
  {
   "cell_type": "code",
   "execution_count": 138,
   "id": "0371594e",
   "metadata": {
    "scrolled": true
   },
   "outputs": [
    {
     "data": {
      "text/plain": [
       "['All/100,000 cps/4-12-21 Expt 2L.tif',\n",
       " 'All/100 cps/4-13-21 Expt 2L.tif',\n",
       " 'All/100 cps/4-14-21 Expt 1L.tif',\n",
       " 'All/300 cps/4-13-21 Expt 4L.tif',\n",
       " 'All/300 cps/4-13-21 Expt 3L.tif',\n",
       " 'All/10,000 cps/4-28-21 Expt2L.tif',\n",
       " 'All/3,000 cps/4-12-21 Expt 4L.tif',\n",
       " 'All/3,000 cps/4-28-21 Expt 3L.tif',\n",
       " 'All/30 cps/4-14-21 Expt 2L.tif',\n",
       " 'All/30 cps/4-14-21 Expt 1L.tif',\n",
       " 'All/1,000 cps/4-12-21 Expt 3L.tif',\n",
       " 'All/1,000 cps/4-13-21 Expt 1L.tif']"
      ]
     },
     "execution_count": 138,
     "metadata": {},
     "output_type": "execute_result"
    }
   ],
   "source": [
    "trainpath"
   ]
  },
  {
   "cell_type": "code",
   "execution_count": 139,
   "id": "aa9b9b36",
   "metadata": {},
   "outputs": [
    {
     "data": {
      "text/plain": [
       "['All/100,000 cps/4-12-21 Expt 2R.tif',\n",
       " 'All/30,000 cps/4-28-21 Expt 3R.tif',\n",
       " 'All/30,000 cps/4-12-21 Expt 3R.tif',\n",
       " 'All/300 cps/4-13-21 Expt 3R.tif',\n",
       " 'All/10,000 cps/4-28-21 Expt2R.tif',\n",
       " 'All/10,000 cps/4-28-21 Expt 1R.tif',\n",
       " 'All/3,000 cps/4-12-21 Expt 4R.tif',\n",
       " 'All/30 cps/4-14-21 Expt 2R.tif',\n",
       " 'All/1,000 cps/4-13-21 Expt 1R.tif']"
      ]
     },
     "execution_count": 139,
     "metadata": {},
     "output_type": "execute_result"
    }
   ],
   "source": [
    "testpath"
   ]
  },
  {
   "cell_type": "code",
   "execution_count": 149,
   "id": "4724e18c",
   "metadata": {},
   "outputs": [],
   "source": [
    "def modeltest_withpics(path2):\n",
    "    mat2 = tif_to_mat(path2)\n",
    "    df2 = pd.DataFrame(mat2, columns = ['image ID','Average Value','maximum'])\n",
    "    df2.plot.scatter('image ID', 'Average Value', s=100, marker='.', color=\"crimson\",title='original value')\n",
    "    plt.show()\n",
    "    X2 = df2['image ID'].values.reshape(-1, 1)\n",
    "    y2 = df2['Average Value'].values.reshape(-1, 1)\n",
    "    X_train2, X_test2, y_train2, y_test2 = train_test_split(X2, y2, test_size=0.3, random_state=98, shuffle=True)\n",
    "    y_pred2 = regr.predict(X_test2)\n",
    "    plt.scatter(X_test2,y_pred2,label=\"predicted\",alpha = 1)\n",
    "    plt.scatter(X_test2,y_test2,label = 'test',alpha = 0.5)\n",
    "    plt.xlabel('y test set')\n",
    "    plt.ylabel('y predicted')\n",
    "    plt.legend()\n",
    "    plt.show()\n",
    "    plt.scatter(X_test2,y_pred2,label=\"predicted\",alpha = 1)\n",
    "    MSE = mean_squared_error(y_test2, y_pred2)\n",
    "    R2 = r2_score(y_test2, y_pred2)\n",
    "    print()\n",
    "    print('MSE =',MSE)\n",
    "    print('R2 =',R2)"
   ]
  },
  {
   "cell_type": "code",
   "execution_count": 180,
   "id": "6a4b6531",
   "metadata": {},
   "outputs": [
    {
     "name": "stderr",
     "output_type": "stream",
     "text": [
      ".\n",
      "----------------------------------------------------------------------\n",
      "Ran 1 test in 0.389s\n",
      "\n",
      "OK\n"
     ]
    }
   ],
   "source": [
    "import unittest\n",
    "\n",
    "class Test_modeltest(unittest.TestCase):\n",
    "\n",
    "    #We can test if the modeltest & modelmake function is working properly\n",
    "    def test_modeltest(self):\n",
    "        def modeltest(regr,path2):\n",
    "            mat2 = tif_to_mat(path2)\n",
    "            df2 = pd.DataFrame(mat2, columns = ['image ID','Average Value','maximum','arr_min','meandiff','stdev'])\n",
    "            X2 = df2.loc[:, df.columns!='image ID']\n",
    "            y2 = df2['image ID'].values.reshape(-1, 1)\n",
    "            X_train2, X_test2, y_train2, y_test2 = train_test_split(X2, y2, test_size=0.9, random_state=98, shuffle=True)\n",
    "            y_pred2 = regr.predict(X_test2)\n",
    "            MSE = mean_squared_error(y_test2, y_pred2)\n",
    "            R2 = r2_score(y_test2, y_pred2)\n",
    "            return MSE,R2\n",
    "\n",
    "        def makemodel(path):\n",
    "            mat = tif_to_mat(path)\n",
    "            df = pd.DataFrame(mat, columns = ['image ID','Average Value','maximum','arr_min','meandiff','stdev'])\n",
    "            X = df.loc[:, df.columns!='image ID']\n",
    "    \n",
    "            y = df['image ID'].values.reshape(-1, 1)\n",
    "            X_train, X_test, y_train, y_test = train_test_split(X, y, test_size=0.1, random_state=98, shuffle=True)\n",
    "            def regr_func (X_train,y_train,depths):\n",
    "                regr = DecisionTreeRegressor(random_state=0,max_depth=depths)\n",
    "                regr.fit(X_train, y_train)\n",
    "                y_pred = regr.predict(X_test)\n",
    "                MSE = mean_squared_error(y_test, y_pred)\n",
    "                R2 = r2_score(y_test, y_pred)\n",
    " \n",
    "                return MSE,R2\n",
    "            depths_array = np.arange(2,40,2)\n",
    "            MSE_array = []\n",
    "            R2_array = []\n",
    " \n",
    "            for dps in depths_array:\n",
    "                res = regr_func (X_train,y_train,dps)\n",
    "                MSE_array.append(res[0])\n",
    "                R2_array.append(res[1])\n",
    "            MSEmin = np.argmin(MSE_array)\n",
    "            R2max = np.argmax(R2_array)\n",
    "    \n",
    "            regr = DecisionTreeRegressor(random_state=0,max_depth=depths_array[MSEmin])\n",
    "            regr.fit(X_train, y_train)\n",
    "            y_pred = regr.predict(X_test)\n",
    "            MSE = mean_squared_error(y_test, y_pred)\n",
    "            R2 = r2_score(y_test, y_pred)\n",
    "            print('R2 score is: ',R2)\n",
    "            if R2 <0.9:\n",
    "                print('Warning! Model not good')\n",
    "            return regr\n",
    "        \n",
    "        \n",
    "        assert len(modeltest(model,testpath[0])) != 1, 'The path model making and test processes are incorrect'\n",
    "        \n",
    "suite = unittest.TestLoader().loadTestsFromTestCase(Test_modeltest)\n",
    "_ = unittest.TextTestRunner().run(suite)"
   ]
  },
  {
   "cell_type": "code",
   "execution_count": 147,
   "id": "701d17fe",
   "metadata": {},
   "outputs": [],
   "source": [
    "def modeltest(regr,path2):\n",
    "    mat2 = tif_to_mat(path2)\n",
    "    df2 = pd.DataFrame(mat2, columns = ['image ID','Average Value','maximum','arr_min','meandiff','stdev'])\n",
    "    X2 = df2.loc[:, df.columns!='image ID']\n",
    "    y2 = df2['image ID'].values.reshape(-1, 1)\n",
    "    X_train2, X_test2, y_train2, y_test2 = train_test_split(X2, y2, test_size=0.9, random_state=98, shuffle=True)\n",
    "    y_pred2 = regr.predict(X_test2)\n",
    "    MSE = mean_squared_error(y_test2, y_pred2)\n",
    "    R2 = r2_score(y_test2, y_pred2)\n",
    "    return MSE,R2"
   ]
  },
  {
   "cell_type": "code",
   "execution_count": 150,
   "id": "742981b6",
   "metadata": {},
   "outputs": [],
   "source": [
    "def makemodel(path):\n",
    "    mat = tif_to_mat(path)\n",
    "    df = pd.DataFrame(mat, columns = ['image ID','Average Value','maximum','arr_min','meandiff','stdev'])\n",
    "    X = df.loc[:, df.columns!='image ID']\n",
    "    \n",
    "    y = df['image ID'].values.reshape(-1, 1)\n",
    "    X_train, X_test, y_train, y_test = train_test_split(X, y, test_size=0.1, random_state=98, shuffle=True)\n",
    "    def regr_func (X_train,y_train,depths):\n",
    "        regr = DecisionTreeRegressor(random_state=0,max_depth=depths)\n",
    "        regr.fit(X_train, y_train)\n",
    "        y_pred = regr.predict(X_test)\n",
    "        MSE = mean_squared_error(y_test, y_pred)\n",
    "        R2 = r2_score(y_test, y_pred)\n",
    "    #print(\"Prediction accuracy MSE: \", MSE)\n",
    "    #print(\"R2 score: \", R2)\n",
    "        return MSE,R2\n",
    "    depths_array = np.arange(2,40,2)\n",
    "    MSE_array = []\n",
    "    R2_array = []\n",
    "\n",
    "    for dps in depths_array:\n",
    "        res = regr_func (X_train,y_train,dps)\n",
    "        MSE_array.append(res[0])\n",
    "        R2_array.append(res[1])\n",
    "    MSEmin = np.argmin(MSE_array)\n",
    "    R2max = np.argmax(R2_array)\n",
    "    \n",
    "    regr = DecisionTreeRegressor(random_state=0,max_depth=depths_array[MSEmin])\n",
    "    regr.fit(X_train, y_train)\n",
    "    y_pred = regr.predict(X_test)\n",
    "    MSE = mean_squared_error(y_test, y_pred)\n",
    "    R2 = r2_score(y_test, y_pred)\n",
    "    print('R2 score is: ',R2)\n",
    "    if R2 <0.9:\n",
    "        print('Warning! Model not good')\n",
    "    return regr\n",
    "    #y_pred = regr.predict(X_test)\n",
    "    #MSE = mean_squared_error(y_test, y_pred)\n",
    "    #R2 = r2_score(y_test, y_pred)"
   ]
  },
  {
   "cell_type": "code",
   "execution_count": 151,
   "id": "506bed49",
   "metadata": {},
   "outputs": [
    {
     "data": {
      "text/plain": [
       "['All/100,000 cps/4-12-21 Expt 2R.tif',\n",
       " 'All/30,000 cps/4-28-21 Expt 3R.tif',\n",
       " 'All/30,000 cps/4-12-21 Expt 3R.tif',\n",
       " 'All/300 cps/4-13-21 Expt 3R.tif',\n",
       " 'All/10,000 cps/4-28-21 Expt2R.tif',\n",
       " 'All/10,000 cps/4-28-21 Expt 1R.tif',\n",
       " 'All/3,000 cps/4-12-21 Expt 4R.tif',\n",
       " 'All/30 cps/4-14-21 Expt 2R.tif',\n",
       " 'All/1,000 cps/4-13-21 Expt 1R.tif']"
      ]
     },
     "execution_count": 151,
     "metadata": {},
     "output_type": "execute_result"
    }
   ],
   "source": [
    "testpath"
   ]
  },
  {
   "cell_type": "code",
   "execution_count": 152,
   "id": "d3a0dacb",
   "metadata": {
    "scrolled": false
   },
   "outputs": [
    {
     "data": {
      "text/plain": [
       "['All/100,000 cps/4-12-21 Expt 2L.tif',\n",
       " 'All/100 cps/4-13-21 Expt 2L.tif',\n",
       " 'All/100 cps/4-14-21 Expt 1L.tif',\n",
       " 'All/300 cps/4-13-21 Expt 4L.tif',\n",
       " 'All/300 cps/4-13-21 Expt 3L.tif',\n",
       " 'All/10,000 cps/4-28-21 Expt2L.tif',\n",
       " 'All/3,000 cps/4-12-21 Expt 4L.tif',\n",
       " 'All/3,000 cps/4-28-21 Expt 3L.tif',\n",
       " 'All/30 cps/4-14-21 Expt 2L.tif',\n",
       " 'All/30 cps/4-14-21 Expt 1L.tif',\n",
       " 'All/1,000 cps/4-12-21 Expt 3L.tif',\n",
       " 'All/1,000 cps/4-13-21 Expt 1L.tif']"
      ]
     },
     "execution_count": 152,
     "metadata": {},
     "output_type": "execute_result"
    }
   ],
   "source": [
    "trainpath"
   ]
  },
  {
   "cell_type": "code",
   "execution_count": 153,
   "id": "108be9de",
   "metadata": {
    "scrolled": true
   },
   "outputs": [
    {
     "data": {
      "text/plain": [
       "['100,000 cps',\n",
       " '30,000 cps',\n",
       " '30,000 cps',\n",
       " '300 cps',\n",
       " '10,000 cps',\n",
       " '10,000 cps',\n",
       " '3,000 cps',\n",
       " '30 cps',\n",
       " '1,000 cps']"
      ]
     },
     "execution_count": 153,
     "metadata": {},
     "output_type": "execute_result"
    }
   ],
   "source": [
    "testcps"
   ]
  },
  {
   "cell_type": "code",
   "execution_count": 154,
   "id": "9aa12542",
   "metadata": {},
   "outputs": [],
   "source": [
    "trainidx = [0,2,3,4,5,7,9,10]"
   ]
  },
  {
   "cell_type": "code",
   "execution_count": 155,
   "id": "74bba4fd",
   "metadata": {},
   "outputs": [],
   "source": [
    "trainin = []\n",
    "trainincps = []\n",
    "for idx in trainidx:\n",
    "    trainin.append(trainpath[idx])\n",
    "    trainincps.append(traincps[idx])"
   ]
  },
  {
   "cell_type": "code",
   "execution_count": 156,
   "id": "c52f07ab",
   "metadata": {},
   "outputs": [
    {
     "data": {
      "text/plain": [
       "['100,000 cps',\n",
       " '100 cps',\n",
       " '300 cps',\n",
       " '300 cps',\n",
       " '10,000 cps',\n",
       " '3,000 cps',\n",
       " '30 cps',\n",
       " '1,000 cps']"
      ]
     },
     "execution_count": 156,
     "metadata": {},
     "output_type": "execute_result"
    }
   ],
   "source": [
    "trainincps"
   ]
  },
  {
   "cell_type": "code",
   "execution_count": 157,
   "id": "5e14c524",
   "metadata": {},
   "outputs": [
    {
     "data": {
      "text/plain": [
       "['All/100,000 cps/4-12-21 Expt 2L.tif',\n",
       " 'All/100 cps/4-14-21 Expt 1L.tif',\n",
       " 'All/300 cps/4-13-21 Expt 4L.tif',\n",
       " 'All/300 cps/4-13-21 Expt 3L.tif',\n",
       " 'All/10,000 cps/4-28-21 Expt2L.tif',\n",
       " 'All/3,000 cps/4-28-21 Expt 3L.tif',\n",
       " 'All/30 cps/4-14-21 Expt 1L.tif',\n",
       " 'All/1,000 cps/4-12-21 Expt 3L.tif']"
      ]
     },
     "execution_count": 157,
     "metadata": {},
     "output_type": "execute_result"
    }
   ],
   "source": [
    "trainin"
   ]
  },
  {
   "cell_type": "code",
   "execution_count": 158,
   "id": "0a2764c1",
   "metadata": {},
   "outputs": [
    {
     "data": {
      "text/plain": [
       "['All/100,000 cps/4-12-21 Expt 2L.tif']"
      ]
     },
     "execution_count": 158,
     "metadata": {},
     "output_type": "execute_result"
    }
   ],
   "source": [
    "trainin[0:1]"
   ]
  },
  {
   "cell_type": "code",
   "execution_count": 159,
   "id": "3c77ec6d",
   "metadata": {
    "scrolled": true
   },
   "outputs": [
    {
     "data": {
      "text/plain": [
       "['All/100,000 cps/4-12-21 Expt 2R.tif',\n",
       " 'All/30,000 cps/4-28-21 Expt 3R.tif',\n",
       " 'All/30,000 cps/4-12-21 Expt 3R.tif',\n",
       " 'All/300 cps/4-13-21 Expt 3R.tif',\n",
       " 'All/10,000 cps/4-28-21 Expt2R.tif',\n",
       " 'All/10,000 cps/4-28-21 Expt 1R.tif',\n",
       " 'All/3,000 cps/4-12-21 Expt 4R.tif',\n",
       " 'All/30 cps/4-14-21 Expt 2R.tif',\n",
       " 'All/1,000 cps/4-13-21 Expt 1R.tif']"
      ]
     },
     "execution_count": 159,
     "metadata": {},
     "output_type": "execute_result"
    }
   ],
   "source": [
    "testpath"
   ]
  },
  {
   "cell_type": "code",
   "execution_count": 160,
   "id": "308e282f",
   "metadata": {},
   "outputs": [
    {
     "name": "stdout",
     "output_type": "stream",
     "text": [
      "R2 score is:  0.9988669944919562\n"
     ]
    }
   ],
   "source": [
    "model = makemodel(trainin[0])"
   ]
  },
  {
   "cell_type": "code",
   "execution_count": 161,
   "id": "b3275fbc",
   "metadata": {},
   "outputs": [
    {
     "data": {
      "text/plain": [
       "(70304.59976851851, 0.41448774579859005)"
      ]
     },
     "execution_count": 161,
     "metadata": {},
     "output_type": "execute_result"
    }
   ],
   "source": [
    "modeltest(model,testpath[0])"
   ]
  },
  {
   "cell_type": "code",
   "execution_count": 162,
   "id": "53c960b1",
   "metadata": {},
   "outputs": [
    {
     "data": {
      "text/plain": [
       "(136621.0788773148, -0.13781055760600736)"
      ]
     },
     "execution_count": 162,
     "metadata": {},
     "output_type": "execute_result"
    }
   ],
   "source": [
    "modeltest(model,testpath[1])"
   ]
  },
  {
   "cell_type": "code",
   "execution_count": 163,
   "id": "b90832ff",
   "metadata": {},
   "outputs": [
    {
     "data": {
      "text/plain": [
       "['All/100,000 cps/4-12-21 Expt 2R.tif',\n",
       " 'All/30,000 cps/4-28-21 Expt 3R.tif',\n",
       " 'All/30,000 cps/4-12-21 Expt 3R.tif',\n",
       " 'All/300 cps/4-13-21 Expt 3R.tif',\n",
       " 'All/10,000 cps/4-28-21 Expt2R.tif',\n",
       " 'All/10,000 cps/4-28-21 Expt 1R.tif',\n",
       " 'All/3,000 cps/4-12-21 Expt 4R.tif',\n",
       " 'All/30 cps/4-14-21 Expt 2R.tif',\n",
       " 'All/1,000 cps/4-13-21 Expt 1R.tif']"
      ]
     },
     "execution_count": 163,
     "metadata": {},
     "output_type": "execute_result"
    }
   ],
   "source": [
    "testpath"
   ]
  },
  {
   "cell_type": "code",
   "execution_count": 164,
   "id": "01fbaf13",
   "metadata": {
    "scrolled": true
   },
   "outputs": [
    {
     "name": "stdout",
     "output_type": "stream",
     "text": [
      "All/100,000 cps/4-12-21 Expt 2L.tif\n",
      "R2 score is:  0.9988669944919562\n",
      "All/100 cps/4-14-21 Expt 1L.tif\n",
      "R2 score is:  0.9994617256014383\n",
      "All/300 cps/4-13-21 Expt 4L.tif\n",
      "R2 score is:  0.9964189284529346\n",
      "All/300 cps/4-13-21 Expt 3L.tif\n",
      "R2 score is:  0.9981441958771583\n",
      "All/10,000 cps/4-28-21 Expt2L.tif\n",
      "R2 score is:  0.9974384299768365\n",
      "All/3,000 cps/4-28-21 Expt 3L.tif\n",
      "R2 score is:  0.9898706032282962\n",
      "All/30 cps/4-14-21 Expt 1L.tif\n",
      "R2 score is:  0.9331334534807435\n",
      "All/1,000 cps/4-12-21 Expt 3L.tif\n",
      "R2 score is:  0.9915557888017166\n"
     ]
    }
   ],
   "source": [
    "i = 0\n",
    "MSEmat = []\n",
    "R2mat = []\n",
    "for paths in trainin:\n",
    "    print(paths)\n",
    "    model = makemodel(paths)\n",
    "    MSEarray = []\n",
    "    R2array = []\n",
    "    for path2 in testpath:\n",
    "        MSE,R2 = modeltest(model,path2)\n",
    "        #print(R2)\n",
    "        MSEarray.append(MSE)\n",
    "        R2array.append(R2)\n",
    "        del MSE,R2\n",
    "    MSEmat.append(MSEarray)\n",
    "    R2mat.append(R2array)"
   ]
  },
  {
   "cell_type": "code",
   "execution_count": 165,
   "id": "0aed8d9f",
   "metadata": {},
   "outputs": [
    {
     "data": {
      "image/png": "[encoded data removed]",
      "text/plain": [
       "<Figure size 432x288 with 2 Axes>"
      ]
     },
     "metadata": {
      "needs_background": "light"
     },
     "output_type": "display_data"
    }
   ],
   "source": [
    "shw = plt.imshow(np.array(R2mat))\n",
    "bar = plt.colorbar(shw)\n",
    "plt.clim(0.1,1)\n"
   ]
  },
  {
   "cell_type": "code",
   "execution_count": 166,
   "id": "5db2febe",
   "metadata": {
    "scrolled": false
   },
   "outputs": [],
   "source": [
    "R2mat = np.round(R2mat,5)"
   ]
  },
  {
   "cell_type": "code",
   "execution_count": 167,
   "id": "9f591cf6",
   "metadata": {
    "scrolled": true
   },
   "outputs": [
    {
     "data": {
      "text/plain": [
       "array([[ 0.41, -0.14,  0.79, -0.71, -0.38, -0.24,  0.1 , -0.95, -0.59],\n",
       "       [-0.69, -0.3 , -0.73,  0.12, -0.  , -0.1 , -0.25,  0.17,  0.05],\n",
       "       [-0.44,  0.08, -0.52,  0.08,  0.29, -0.03, -0.04,  0.09,  0.08],\n",
       "       [-0.3 ,  0.05, -0.48,  0.5 ,  0.31,  0.32,  0.13,  0.08,  0.5 ],\n",
       "       [ 0.04,  0.95, -0.07,  0.13,  0.83,  0.77,  0.71, -0.18,  0.37],\n",
       "       [-0.35,  0.28, -0.35,  0.63,  0.67,  0.46,  0.34, -0.16,  0.64],\n",
       "       [-0.8 , -0.45, -0.87,  0.11, -0.1 , -0.29, -0.53,  0.36, -0.3 ],\n",
       "       [-0.13,  0.55, -0.24,  0.72,  0.84,  0.67,  0.53, -0.11,  0.61]])"
      ]
     },
     "execution_count": 167,
     "metadata": {},
     "output_type": "execute_result"
    }
   ],
   "source": [
    "np.round(R2mat,2)"
   ]
  },
  {
   "cell_type": "code",
   "execution_count": 168,
   "id": "0946b317",
   "metadata": {},
   "outputs": [],
   "source": [
    "R2mat_test = np.round(R2mat,3)"
   ]
  },
  {
   "cell_type": "code",
   "execution_count": 169,
   "id": "1ac64427",
   "metadata": {},
   "outputs": [
    {
     "data": {
      "text/plain": [
       "array([[ 0.414, -0.138,  0.791, -0.706, -0.384, -0.245,  0.101, -0.947,\n",
       "        -0.587],\n",
       "       [-0.694, -0.295, -0.73 ,  0.123, -0.   , -0.101, -0.254,  0.165,\n",
       "         0.05 ],\n",
       "       [-0.439,  0.079, -0.518,  0.076,  0.29 , -0.027, -0.042,  0.092,\n",
       "         0.083],\n",
       "       [-0.297,  0.046, -0.479,  0.498,  0.313,  0.321,  0.134,  0.079,\n",
       "         0.499],\n",
       "       [ 0.039,  0.947, -0.072,  0.129,  0.835,  0.773,  0.708, -0.181,\n",
       "         0.374],\n",
       "       [-0.347,  0.283, -0.352,  0.629,  0.674,  0.462,  0.337, -0.156,\n",
       "         0.639],\n",
       "       [-0.798, -0.452, -0.869,  0.107, -0.102, -0.293, -0.532,  0.36 ,\n",
       "        -0.298],\n",
       "       [-0.13 ,  0.553, -0.238,  0.72 ,  0.837,  0.67 ,  0.529, -0.11 ,\n",
       "         0.606]])"
      ]
     },
     "execution_count": 169,
     "metadata": {},
     "output_type": "execute_result"
    }
   ],
   "source": [
    "R2mat_test"
   ]
  },
  {
   "cell_type": "code",
   "execution_count": 170,
   "id": "7daa2530",
   "metadata": {},
   "outputs": [],
   "source": [
    "i=0\n",
    "j=0\n",
    "R2mat_test = np.round(R2mat,3)\n",
    "for ars in R2mat_test:\n",
    "    for v in ars:\n",
    "        if v <= 0:\n",
    "            R2mat_test[i][j] = 0\n",
    "            \n",
    "        else:\n",
    "            pass\n",
    "        j+=1\n",
    "    i+=1\n",
    "    j=0"
   ]
  },
  {
   "cell_type": "code",
   "execution_count": 171,
   "id": "56809a71",
   "metadata": {},
   "outputs": [
    {
     "data": {
      "text/plain": [
       "array([[0.414, 0.   , 0.791, 0.   , 0.   , 0.   , 0.101, 0.   , 0.   ],\n",
       "       [0.   , 0.   , 0.   , 0.123, 0.   , 0.   , 0.   , 0.165, 0.05 ],\n",
       "       [0.   , 0.079, 0.   , 0.076, 0.29 , 0.   , 0.   , 0.092, 0.083],\n",
       "       [0.   , 0.046, 0.   , 0.498, 0.313, 0.321, 0.134, 0.079, 0.499],\n",
       "       [0.039, 0.947, 0.   , 0.129, 0.835, 0.773, 0.708, 0.   , 0.374],\n",
       "       [0.   , 0.283, 0.   , 0.629, 0.674, 0.462, 0.337, 0.   , 0.639],\n",
       "       [0.   , 0.   , 0.   , 0.107, 0.   , 0.   , 0.   , 0.36 , 0.   ],\n",
       "       [0.   , 0.553, 0.   , 0.72 , 0.837, 0.67 , 0.529, 0.   , 0.606]])"
      ]
     },
     "execution_count": 171,
     "metadata": {},
     "output_type": "execute_result"
    }
   ],
   "source": [
    "R2mat_test"
   ]
  },
  {
   "cell_type": "code",
   "execution_count": 172,
   "id": "79e58e45",
   "metadata": {},
   "outputs": [
    {
     "data": {
      "image/png": "[encoded data removed]",
      "text/plain": [
       "<Figure size 864x216 with 1 Axes>"
      ]
     },
     "metadata": {
      "needs_background": "light"
     },
     "output_type": "display_data"
    },
    {
     "name": "stdout",
     "output_type": "stream",
     "text": [
      "0 means there is negative R2 score\n"
     ]
    }
   ],
   "source": [
    "\n",
    "fig, ax = plt.subplots(figsize = [12,3])\n",
    "\n",
    "# hide axes\n",
    "fig.patch.set_visible(False)\n",
    "ax.axis('off')\n",
    "ax.axis('tight')\n",
    "ax.table(cellText=np.round(R2mat_test,2), colLabels=testcps, rowLabels=trainincps, loc='center')\n",
    "\n",
    "fig.tight_layout()\n",
    "plt.show()\n",
    "print('0 means there is negative R2 score')"
   ]
  },
  {
   "cell_type": "code",
   "execution_count": 173,
   "id": "97bdbeff",
   "metadata": {},
   "outputs": [],
   "source": [
    "fig.savefig('Cor Table')"
   ]
  },
  {
   "cell_type": "code",
   "execution_count": null,
   "id": "fcf26430",
   "metadata": {},
   "outputs": [],
   "source": []
  },
  {
   "cell_type": "code",
   "execution_count": null,
   "id": "ac015793",
   "metadata": {},
   "outputs": [],
   "source": []
  }
 ],
 "metadata": {
  "kernelspec": {
   "display_name": "Python 3 (ipykernel)",
   "language": "python",
   "name": "python3"
  },
  "language_info": {
   "codemirror_mode": {
    "name": "ipython",
    "version": 3
   },
   "file_extension": ".py",
   "mimetype": "text/x-python",
   "name": "python",
   "nbconvert_exporter": "python",
   "pygments_lexer": "ipython3",
   "version": "3.9.7"
  }
 },
 "nbformat": 4,
 "nbformat_minor": 5
}
