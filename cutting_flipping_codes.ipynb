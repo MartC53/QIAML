{
 "cells": [
  {
   "cell_type": "code",
   "execution_count": 1,
   "id": "44760eed",
   "metadata": {},
   "outputs": [],
   "source": [
    "import numpy as np\n",
    "import pandas as pd\n",
    "from matplotlib import pyplot as plt\n",
    "#import tensorflow as tf\n",
    "#import tensorflow.keras.utils as tfu\n",
    "#import PIL\n",
    "#import PIL.Image\n",
    "import cv2\n",
    "import os\n",
    "import shutil\n",
    "#from tensorflow.keras.utils import image_dataset_from_directory\n",
    "#from tensorflow.keras.utils import load_img\n",
    "#import imageio\n",
    "#import imgaug as ia\n",
    "#import imgaug.augmenters as iaa"
   ]
  },
  {
   "cell_type": "code",
   "execution_count": 2,
   "id": "8859999d",
   "metadata": {},
   "outputs": [],
   "source": [
    "def foldername_sorting(upper_foldername,foldername):\n",
    "    list_names = os.listdir(upper_foldername+foldername)\n",
    "    datas = []\n",
    "    pathes = []\n",
    "    imname_all = []\n",
    "    pathes_only = []\n",
    "    names_inter = []\n",
    "    i=0\n",
    "    for names in list_names:\n",
    "        imanames = os.listdir(upper_foldername+foldername+'/'+names)\n",
    "        for j in range(0,len(imanames)+1):\n",
    "            try:\n",
    "                pathes.append(foldername+'/'+names+'/'+imanames[j])\n",
    "                imname_all.append(imanames[j])\n",
    "                pathes_only.append(foldername+'/'+names)\n",
    "                names_inter.append(names)\n",
    "            except:\n",
    "                pass\n",
    "        datas.append(cv2.imread(upper_foldername+foldername+'/'+names+'/'+imanames[0]))\n",
    "        i+=1\n",
    "    return pathes,imname_all,pathes_only,names_inter"
   ]
  },
  {
   "cell_type": "code",
   "execution_count": 3,
   "id": "16dc51ef",
   "metadata": {},
   "outputs": [],
   "source": [
    "def img_cut_4(path):\n",
    "    img = cv2.imread(path)\n",
    "\n",
    "    # cv2.imread() -> takes an image as an input\n",
    "    h, w, channels = img.shape\n",
    "\n",
    "    half = w//2\n",
    "    half2 = h//2\n",
    "    \n",
    "    P1 = img[:half2, :half] \n",
    "    P2 = img[:half2, half:]\n",
    "    P3 = img[half2:, :half]\n",
    "    P4 = img[half2:, half:]\n",
    "    \n",
    "    return P1,P2,P3,P4"
   ]
  },
  {
   "cell_type": "code",
   "execution_count": 11,
   "id": "8dbc483b",
   "metadata": {},
   "outputs": [],
   "source": [
    "def img_flipping_4(path,fname):\n",
    "    '''\n",
    "    This function takes the current path and original file name and writes flipped image to the path. For different files \n",
    "    different names are assigned. \n",
    "    '''\n",
    "    img = cv2.imread(os.path.join(path,fname))\n",
    "    img_h = cv2.flip(img,0)\n",
    "    img_v = cv2.flip(img,1)\n",
    "    img_hv = cv2.flip(img,-1)\n",
    "    cv2.imwrite(os.path.join(path,'fh_'+fname),img_h)\n",
    "    cv2.imwrite(os.path.join(path,'fv_'+fname),img_v)\n",
    "    cv2.imwrite(os.path.join(path,'fhv_'+fname),img_hv)\n",
    "    #return img_h,img_v,img_hv"
   ]
  },
  {
   "cell_type": "code",
   "execution_count": 7,
   "id": "2412ec7d",
   "metadata": {},
   "outputs": [],
   "source": [
    "# Here is cropping the original pictures under cropped jpgs to 4 and save under new folder name\n",
    "try:\n",
    "    shutil.rmtree('cut_to_4')\n",
    "except:\n",
    "    pass\n",
    "upper_foldername = 'Cropped Jpgs/'\n",
    "New_upfolder_name = 'cut_to_4'\n",
    "list_names_upper = os.listdir(upper_foldername)\n",
    "for j in list_names_upper:\n",
    "    pathes,imname_all,pathes_only,names_inter = foldername_sorting(upper_foldername,j)\n",
    "    for i in range(len(pathes_only)):\n",
    "        P1,P2,P3,P4 = img_cut_4(upper_foldername+j+'/'+names_inter[i]+'/'+imname_all[i])\n",
    "        try:\n",
    "            os.makedirs(New_upfolder_name+'/'+j+'/'+names_inter[i])\n",
    "        except:\n",
    "            pass\n",
    "        cv2.imwrite(os.path.join(New_upfolder_name+'/'+j+'/'+names_inter[i] , 'P1.'+imname_all[i]), P1)\n",
    "        cv2.imwrite(os.path.join(New_upfolder_name+'/'+j+'/'+names_inter[i] , 'P2.'+imname_all[i]), P2)\n",
    "        cv2.imwrite(os.path.join(New_upfolder_name+'/'+j+'/'+names_inter[i] , 'P3.'+imname_all[i]), P3)\n",
    "        cv2.imwrite(os.path.join(New_upfolder_name+'/'+j+'/'+names_inter[i] , 'P4.'+imname_all[i]), P4)"
   ]
  },
  {
   "cell_type": "code",
   "execution_count": 12,
   "id": "63820685",
   "metadata": {},
   "outputs": [],
   "source": [
    "# Here is cropping the original pictures under cropped jpgs to 4, flip them, and save under new folder name\n",
    "try:\n",
    "    shutil.rmtree('cut_to_4_flip')\n",
    "except:\n",
    "    pass\n",
    "upper_foldername = 'Cropped Jpgs/'\n",
    "New_upfolder_name = 'cut_to_4_flip'\n",
    "for j in list_names_upper:\n",
    "    pathes,imname_all,pathes_only,names_inter = foldername_sorting(upper_foldername,j)\n",
    "    for i in range(len(pathes_only)):\n",
    "        P1,P2,P3,P4 = img_cut_4(upper_foldername+j+'/'+names_inter[i]+'/'+imname_all[i])\n",
    "        try:\n",
    "            os.makedirs(New_upfolder_name+'/'+j+'/'+names_inter[i])\n",
    "        except:\n",
    "            pass\n",
    "        path_all = New_upfolder_name+'/'+j+'/'+names_inter[i] \n",
    "        cv2.imwrite(os.path.join(path_all, 'P1.'+imname_all[i]), P1)\n",
    "        cv2.imwrite(os.path.join(path_all, 'P2.'+imname_all[i]), P2)\n",
    "        cv2.imwrite(os.path.join(path_all, 'P3.'+imname_all[i]), P3)\n",
    "        cv2.imwrite(os.path.join(path_all, 'P4.'+imname_all[i]), P4)\n",
    "        img_flipping_4(path_all,'P1.'+imname_all[i])\n",
    "        img_flipping_4(path_all,'P2.'+imname_all[i])\n",
    "        img_flipping_4(path_all,'P3.'+imname_all[i])\n",
    "        img_flipping_4(path_all,'P4.'+imname_all[i])"
   ]
  },
  {
   "cell_type": "code",
   "execution_count": null,
   "id": "6b9e0ff1",
   "metadata": {},
   "outputs": [],
   "source": []
  }
 ],
 "metadata": {
  "kernelspec": {
   "display_name": "Python 3 (ipykernel)",
   "language": "python",
   "name": "python3"
  },
  "language_info": {
   "codemirror_mode": {
    "name": "ipython",
    "version": 3
   },
   "file_extension": ".py",
   "mimetype": "text/x-python",
   "name": "python",
   "nbconvert_exporter": "python",
   "pygments_lexer": "ipython3",
   "version": "3.9.10"
  }
 },
 "nbformat": 4,
 "nbformat_minor": 5
}
