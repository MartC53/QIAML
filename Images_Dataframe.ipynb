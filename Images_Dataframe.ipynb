{
 "cells": [
  {
   "cell_type": "code",
   "execution_count": 1,
   "id": "56824710",
   "metadata": {},
   "outputs": [],
   "source": [
    "import pandas as pd\n",
    "import os\n",
    "import matplotlib.pyplot as plt\n",
    "import numpy as np\n",
    "from autocrop import crop\n",
    "import cv2"
   ]
  },
  {
   "cell_type": "markdown",
   "id": "6add7ac8",
   "metadata": {},
   "source": [
    "Importing images and titles ('class') into arrays"
   ]
  },
  {
   "cell_type": "code",
   "execution_count": 2,
   "id": "47c57fc2",
   "metadata": {},
   "outputs": [],
   "source": [
    "def create_dataset(img_folder):\n",
    "    \"\"\"\n",
    "    img_folder is the directory.\n",
    "    Imports images that are in files with similar types ie the img_folder contains folders with images in folders of the same input copy\n",
    "    I found this here: https://towardsdatascience.com/loading-custom-image-dataset-for-deep-learning-models-part-1-d64fa7aaeca6\n",
    "    \"\"\" \n",
    "\n",
    "    img_data_array=[]\n",
    "    class_name=[]\n",
    "   \n",
    "    for dir1 in os.listdir(img_folder):\n",
    "        for file in os.listdir(os.path.join(img_folder, dir1)):\n",
    "            image_path= os.path.join(img_folder, dir1,  file)\n",
    "            image= cv2.imread( image_path, cv2.IMREAD_COLOR)\n",
    "            image=np.array(image)\n",
    "            image = image.astype('float32')\n",
    "            image /= 255 \n",
    "            img_data_array.append(image)\n",
    "            class_name.append(dir1)\n",
    "    return img_data_array, class_name# extract the image array and class name\n",
    "img_data_array, class_name =create_dataset(r'../digital')"
   ]
  },
  {
   "cell_type": "code",
   "execution_count": 3,
   "id": "7fc26a29",
   "metadata": {},
   "outputs": [
    {
     "name": "stdout",
     "output_type": "stream",
     "text": [
      "30\n",
      "['100', '100', '100', '1000', '1000', '1000', '10000', '10000', '10000', '100000', '30', '30', '30', '300', '300', '300', '3000', '3000', '3000']\n"
     ]
    },
    {
     "data": {
      "image/png": "[encoded data removed]",
      "text/plain": [
       "<Figure size 432x288 with 1 Axes>"
      ]
     },
     "metadata": {
      "needs_background": "light"
     },
     "output_type": "display_data"
    }
   ],
   "source": [
    "plt.imshow(img_data_array[10]) #testing \n",
    "print(class_name[10])\n",
    "print(class_name) # notice that its not in numeric order, order based on left most number."
   ]
  },
  {
   "cell_type": "markdown",
   "id": "88a55885",
   "metadata": {},
   "source": [
    "Putting data into dataframe to make CSV and make it distribuatable"
   ]
  },
  {
   "cell_type": "code",
   "execution_count": 9,
   "id": "24535f06",
   "metadata": {},
   "outputs": [],
   "source": [
    "data = pd.DataFrame({'Images':img_data_array, 'Copy Nimber':class_name})\n",
    "data.to_csv('QIAML_Data.csv', sep=',', na_rep='', float_format=None, columns=None,\n",
    "                 header=True, index=False, compression=None)"
   ]
  },
  {
   "cell_type": "code",
   "execution_count": 4,
   "id": "98b617b9",
   "metadata": {},
   "outputs": [
    {
     "ename": "error",
     "evalue": "OpenCV(4.5.2) ../modules/imgproc/src/clahe.cpp:353: error: (-215:Assertion failed) _src.type() == CV_8UC1 || _src.type() == CV_16UC1 in function 'apply'\n",
     "output_type": "error",
     "traceback": [
      "\u001b[0;31m---------------------------------------------------------------------------\u001b[0m",
      "\u001b[0;31merror\u001b[0m                                     Traceback (most recent call last)",
      "\u001b[0;32m/tmp/ipykernel_10822/3327097546.py\u001b[0m in \u001b[0;36m<module>\u001b[0;34m\u001b[0m\n\u001b[0;32m----> 1\u001b[0;31m \u001b[0mcrop\u001b[0m\u001b[0;34m(\u001b[0m\u001b[0mimg_data_array\u001b[0m\u001b[0;34m[\u001b[0m\u001b[0;36m10\u001b[0m\u001b[0;34m]\u001b[0m\u001b[0;34m)\u001b[0m\u001b[0;34m\u001b[0m\u001b[0;34m\u001b[0m\u001b[0m\n\u001b[0m",
      "\u001b[0;32m/mnt/c/Users/Colem/Documents/Github/QIAML/autocrop.py\u001b[0m in \u001b[0;36mcrop\u001b[0;34m(array)\u001b[0m\n\u001b[1;32m     32\u001b[0m \u001b[0;34m\u001b[0m\u001b[0m\n\u001b[1;32m     33\u001b[0m     \u001b[0;31m# more contrast between foreground and background\u001b[0m\u001b[0;34m\u001b[0m\u001b[0;34m\u001b[0m\u001b[0;34m\u001b[0m\u001b[0m\n\u001b[0;32m---> 34\u001b[0;31m     \u001b[0mcontrasted_img\u001b[0m \u001b[0;34m=\u001b[0m \u001b[0mapply_contrast\u001b[0m\u001b[0;34m(\u001b[0m\u001b[0mgray_img\u001b[0m\u001b[0;34m)\u001b[0m\u001b[0;34m\u001b[0m\u001b[0;34m\u001b[0m\u001b[0m\n\u001b[0m\u001b[1;32m     35\u001b[0m \u001b[0;34m\u001b[0m\u001b[0m\n\u001b[1;32m     36\u001b[0m     \u001b[0;31m# erode image\u001b[0m\u001b[0;34m\u001b[0m\u001b[0;34m\u001b[0m\u001b[0;34m\u001b[0m\u001b[0m\n",
      "\u001b[0;32m/mnt/c/Users/Colem/Documents/Github/QIAML/autocrop.py\u001b[0m in \u001b[0;36mapply_contrast\u001b[0;34m(img)\u001b[0m\n\u001b[1;32m     69\u001b[0m     clahe = cv2.createCLAHE(clipLimit=contrast_threshold,\n\u001b[1;32m     70\u001b[0m                             tileGridSize=(grid_size, grid_size))\n\u001b[0;32m---> 71\u001b[0;31m     \u001b[0mclahe_img\u001b[0m \u001b[0;34m=\u001b[0m \u001b[0mclahe\u001b[0m\u001b[0;34m.\u001b[0m\u001b[0mapply\u001b[0m\u001b[0;34m(\u001b[0m\u001b[0mimg\u001b[0m\u001b[0;34m)\u001b[0m\u001b[0;34m\u001b[0m\u001b[0;34m\u001b[0m\u001b[0m\n\u001b[0m\u001b[1;32m     72\u001b[0m \u001b[0;34m\u001b[0m\u001b[0m\n\u001b[1;32m     73\u001b[0m     \u001b[0madjusted\u001b[0m \u001b[0;34m=\u001b[0m \u001b[0mcv2\u001b[0m\u001b[0;34m.\u001b[0m\u001b[0mconvertScaleAbs\u001b[0m\u001b[0;34m(\u001b[0m\u001b[0mclahe_img\u001b[0m\u001b[0;34m,\u001b[0m \u001b[0malpha\u001b[0m\u001b[0;34m=\u001b[0m\u001b[0malpha\u001b[0m\u001b[0;34m,\u001b[0m \u001b[0mbeta\u001b[0m\u001b[0;34m=\u001b[0m\u001b[0mbeta\u001b[0m\u001b[0;34m)\u001b[0m\u001b[0;34m\u001b[0m\u001b[0;34m\u001b[0m\u001b[0m\n",
      "\u001b[0;31merror\u001b[0m: OpenCV(4.5.2) ../modules/imgproc/src/clahe.cpp:353: error: (-215:Assertion failed) _src.type() == CV_8UC1 || _src.type() == CV_16UC1 in function 'apply'\n"
     ]
    }
   ],
   "source": [
    "crop(img_data_array[10])"
   ]
  }
 ],
 "metadata": {
  "kernelspec": {
   "display_name": "Python 3 (ipykernel)",
   "language": "python",
   "name": "python3"
  },
  "language_info": {
   "codemirror_mode": {
    "name": "ipython",
    "version": 3
   },
   "file_extension": ".py",
   "mimetype": "text/x-python",
   "name": "python",
   "nbconvert_exporter": "python",
   "pygments_lexer": "ipython3",
   "version": "3.9.5"
  }
 },
 "nbformat": 4,
 "nbformat_minor": 5
}
