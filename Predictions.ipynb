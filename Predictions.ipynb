{
 "cells": [
  {
   "cell_type": "code",
   "execution_count": 6,
   "id": "a3d01346",
   "metadata": {
    "scrolled": false
   },
   "outputs": [],
   "source": [
    "import numpy as np\n",
    "import tensorflow as tf\n",
    "from PIL import Image\n",
    "from ModelPredict import compair\n",
    "from tensorflow.keras.utils import image_dataset_from_directory"
   ]
  },
  {
   "cell_type": "code",
   "execution_count": 7,
   "id": "f41cceb4",
   "metadata": {},
   "outputs": [],
   "source": [
    "def Dataset_from_directory(data_dir, predict_dir, split):\n",
    "\t\"\"\"\n",
    "\t    \n",
    "\tParameters\n",
    "\t----------\n",
    "\ttrain : str. Which dataset desired: AB,AC,BC\n",
    "\ttest : str. corrisponding testdata: A,B,C \n",
    "\t\n",
    "\tsplit : float. Fraction of validation split (0.2 =20%)\n",
    "\tReturns\n",
    "\t-------\n",
    "\ttrain_ds : tensorflow dataset for training. \n",
    "\tpred_ds : tensorflow dataset for testing/predicting.\n",
    "\t\"\"\"\n",
    "\n",
    "\ttrain_ds = image_dataset_from_directory(\n",
    "\tdata_dir,\n",
    "\tseed=53,\n",
    "\timage_size=(900, 900))\n",
    "\n",
    "\tval_ds = image_dataset_from_directory(\n",
    "\t\tdata_dir,\n",
    "\tvalidation_split=split,\n",
    "\tsubset=\"validation\",\n",
    "\tseed=53,\n",
    "\timage_size=(900, 900))\n",
    "\n",
    "\tpred_ds= image_dataset_from_directory(\n",
    "\t\tpredict_dir,\n",
    "\t\tseed = 53,\n",
    "\t\timage_size=(900, 900))\n",
    "\n",
    "\treturn train_ds, val_ds, pred_ds"
   ]
  },
  {
   "cell_type": "code",
   "execution_count": 11,
   "id": "c90e4e7a",
   "metadata": {},
   "outputs": [
    {
     "name": "stdout",
     "output_type": "stream",
     "text": [
      "Found 12 files belonging to 3 classes.\n",
      "Found 12 files belonging to 3 classes.\n",
      "Using 6 files for validation.\n",
      "Found 7 files belonging to 1 classes.\n",
      "Test set accuracy: 100.000%\n"
     ]
    }
   ],
   "source": [
    "import tensorflow as tf\n",
    "from PIL import Image\n",
    "\n",
    "group = 'A'\n",
    "data_dir = './Datasets/3_split'\n",
    "predict_dir = './Datasets/cropped_jpgs/'\n",
    "\n",
    "\n",
    "train_ds, val_ds, pred_ds = Dataset_from_directory(data_dir, predict_dir, 0.5)\n",
    "\n",
    "normalization_layer = tf.keras.layers.Rescaling(1./255) # normalizing pixel intensity, 8 bit camera\n",
    "pred_ds = pred_ds.map(lambda x, y: (normalization_layer(x), y)) # normalizing pixel intensity, 8 bit camera\n",
    "\n",
    "\n",
    "model = tf.keras.models.load_model('classifier 3_split_final')\n",
    "# model.summary()\n",
    "# predict = model.predict(pred_ds)\n",
    "# print(predict)\n",
    "\n",
    "# test_accuracy = tf.keras.metrics.Accuracy()\n",
    "# print(test_accuracy)\n",
    "# test_loss = estimator.model.evaluate(train_ds)\n",
    "# print(\"test set mse is %.2f\" % test_loss)\n",
    "# print('load complete')\n",
    "# predictions = model.predict(pred_ds)\n",
    "\n",
    "# matrix = metrics.confusion_matrix(y_test.argmax(axis=1), y_pred.argmax(axis=1))\n",
    "# predictions = model(pred_ds, training=False)\n",
    "\n",
    "RMSprop = tf.keras.optimizers.RMSprop(\n",
    "    learning_rate=0.0001907, momentum=0.00082)\n",
    "\n",
    "model.compile(\n",
    "  optimizer=RMSprop,\n",
    "  loss=tf.keras.losses.MeanSquaredError())\n",
    "\n",
    "test_accuracy = tf.keras.metrics.Accuracy()\n",
    "ds_test_batch = pred_ds\n",
    "\n",
    "for (x, y) in ds_test_batch:\n",
    "  # training=False is needed only if there are layers with different\n",
    "  # behavior during training versus inference (e.g. Dropout).\n",
    "  logits = model(x, training=True)\n",
    "  prediction = tf.argmax(logits, axis=1, output_type=tf.int64)\n",
    "  test_accuracy(prediction, y)\n",
    "\n",
    "print(\"Test set accuracy: {:.3%}\".format(test_accuracy.result()))"
   ]
  },
  {
   "cell_type": "code",
   "execution_count": 12,
   "id": "da6c0647",
   "metadata": {},
   "outputs": [
    {
     "ename": "TypeError",
     "evalue": "predict() missing 1 required positional argument: 'x'",
     "output_type": "error",
     "traceback": [
      "\u001b[0;31m---------------------------------------------------------------------------\u001b[0m",
      "\u001b[0;31mTypeError\u001b[0m                                 Traceback (most recent call last)",
      "Input \u001b[0;32mIn [12]\u001b[0m, in \u001b[0;36m<cell line: 1>\u001b[0;34m()\u001b[0m\n\u001b[0;32m----> 1\u001b[0m \u001b[43mmodel\u001b[49m\u001b[38;5;241;43m.\u001b[39;49m\u001b[43mpredict\u001b[49m\u001b[43m(\u001b[49m\u001b[43m)\u001b[49m\n",
      "File \u001b[0;32m~/anaconda3/envs/tensor/lib/python3.9/site-packages/keras/utils/traceback_utils.py:67\u001b[0m, in \u001b[0;36mfilter_traceback.<locals>.error_handler\u001b[0;34m(*args, **kwargs)\u001b[0m\n\u001b[1;32m     65\u001b[0m \u001b[38;5;28;01mexcept\u001b[39;00m \u001b[38;5;167;01mException\u001b[39;00m \u001b[38;5;28;01mas\u001b[39;00m e:  \u001b[38;5;66;03m# pylint: disable=broad-except\u001b[39;00m\n\u001b[1;32m     66\u001b[0m   filtered_tb \u001b[38;5;241m=\u001b[39m _process_traceback_frames(e\u001b[38;5;241m.\u001b[39m__traceback__)\n\u001b[0;32m---> 67\u001b[0m   \u001b[38;5;28;01mraise\u001b[39;00m e\u001b[38;5;241m.\u001b[39mwith_traceback(filtered_tb) \u001b[38;5;28;01mfrom\u001b[39;00m \u001b[38;5;28mNone\u001b[39m\n\u001b[1;32m     68\u001b[0m \u001b[38;5;28;01mfinally\u001b[39;00m:\n\u001b[1;32m     69\u001b[0m   \u001b[38;5;28;01mdel\u001b[39;00m filtered_tb\n",
      "File \u001b[0;32m~/anaconda3/envs/tensor/lib/python3.9/site-packages/keras/utils/traceback_utils.py:64\u001b[0m, in \u001b[0;36mfilter_traceback.<locals>.error_handler\u001b[0;34m(*args, **kwargs)\u001b[0m\n\u001b[1;32m     62\u001b[0m filtered_tb \u001b[38;5;241m=\u001b[39m \u001b[38;5;28;01mNone\u001b[39;00m\n\u001b[1;32m     63\u001b[0m \u001b[38;5;28;01mtry\u001b[39;00m:\n\u001b[0;32m---> 64\u001b[0m   \u001b[38;5;28;01mreturn\u001b[39;00m fn(\u001b[38;5;241m*\u001b[39margs, \u001b[38;5;241m*\u001b[39m\u001b[38;5;241m*\u001b[39mkwargs)\n\u001b[1;32m     65\u001b[0m \u001b[38;5;28;01mexcept\u001b[39;00m \u001b[38;5;167;01mException\u001b[39;00m \u001b[38;5;28;01mas\u001b[39;00m e:  \u001b[38;5;66;03m# pylint: disable=broad-except\u001b[39;00m\n\u001b[1;32m     66\u001b[0m   filtered_tb \u001b[38;5;241m=\u001b[39m _process_traceback_frames(e\u001b[38;5;241m.\u001b[39m__traceback__)\n",
      "\u001b[0;31mTypeError\u001b[0m: predict() missing 1 required positional argument: 'x'"
     ]
    }
   ],
   "source": []
  },
  {
   "cell_type": "code",
   "execution_count": null,
   "id": "73b59c0b",
   "metadata": {},
   "outputs": [],
   "source": []
  }
 ],
 "metadata": {
  "kernelspec": {
   "display_name": "Python 3 (ipykernel)",
   "language": "python",
   "name": "python3"
  },
  "language_info": {
   "codemirror_mode": {
    "name": "ipython",
    "version": 3
   },
   "file_extension": ".py",
   "mimetype": "text/x-python",
   "name": "python",
   "nbconvert_exporter": "python",
   "pygments_lexer": "ipython3",
   "version": "3.9.10"
  }
 },
 "nbformat": 4,
 "nbformat_minor": 5
}
