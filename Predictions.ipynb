{
 "cells": [
  {
   "cell_type": "code",
   "execution_count": 1,
   "id": "a3d01346",
   "metadata": {
    "scrolled": false
   },
   "outputs": [
    {
     "name": "stderr",
     "output_type": "stream",
     "text": [
      "2022-03-14 12:43:36.615498: W tensorflow/stream_executor/platform/default/dso_loader.cc:64] Could not load dynamic library 'libcudart.so.11.0'; dlerror: libcudart.so.11.0: cannot open shared object file: No such file or directory\n",
      "2022-03-14 12:43:36.615556: I tensorflow/stream_executor/cuda/cudart_stub.cc:29] Ignore above cudart dlerror if you do not have a GPU set up on your machine.\n"
     ]
    }
   ],
   "source": [
    "import numpy as np\n",
    "import tensorflow as tf\n",
    "from PIL import Image\n",
    "from ModelPredict import compair\n",
    "from tensorflow.keras.utils import image_dataset_from_directory\n",
    "import pandas as pd"
   ]
  },
  {
   "cell_type": "code",
   "execution_count": 4,
   "id": "c90e4e7a",
   "metadata": {},
   "outputs": [],
   "source": [
    "import tensorflow as tf\n",
    "from PIL import Image\n"
   ]
  },
  {
   "cell_type": "code",
   "execution_count": 5,
   "id": "72c6a5d4",
   "metadata": {},
   "outputs": [],
   "source": [
    "test = './Datasets/cropped_jpgs/'"
   ]
  },
  {
   "cell_type": "code",
   "execution_count": 6,
   "id": "ba3c749f",
   "metadata": {},
   "outputs": [
    {
     "name": "stdout",
     "output_type": "stream",
     "text": [
      "Found 1 files belonging to 1 classes.\n"
     ]
    },
    {
     "name": "stderr",
     "output_type": "stream",
     "text": [
      "2022-03-14 12:44:55.146440: W tensorflow/stream_executor/platform/default/dso_loader.cc:64] Could not load dynamic library 'libcuda.so.1'; dlerror: libcuda.so.1: cannot open shared object file: No such file or directory\n",
      "2022-03-14 12:44:55.146536: W tensorflow/stream_executor/cuda/cuda_driver.cc:269] failed call to cuInit: UNKNOWN ERROR (303)\n",
      "2022-03-14 12:44:55.146601: I tensorflow/stream_executor/cuda/cuda_diagnostics.cc:156] kernel driver does not appear to be running on this host (DESKTOP-FNNK0RR): /proc/driver/nvidia/version does not exist\n",
      "2022-03-14 12:44:55.147012: I tensorflow/core/platform/cpu_feature_guard.cc:151] This TensorFlow binary is optimized with oneAPI Deep Neural Network Library (oneDNN) to use the following CPU instructions in performance-critical operations:  AVX2 FMA\n",
      "To enable them in other operations, rebuild TensorFlow with the appropriate compiler flags.\n"
     ]
    }
   ],
   "source": [
    "test_ds= image_dataset_from_directory(\n",
    "\t\ttest,\n",
    "\t\tseed = 53,\n",
    "\t\timage_size=(900, 900))\n",
    "normalization_layer = tf.keras.layers.Rescaling(1./255) # normalizing pixel intensity, 8 bit camera\n",
    "pred_ds = test_ds.map(lambda x, y: (normalization_layer(x), y)) # normalizing pixel intensity, 8 bit camera\n"
   ]
  },
  {
   "cell_type": "code",
   "execution_count": 7,
   "id": "48f1a514",
   "metadata": {},
   "outputs": [
    {
     "name": "stdout",
     "output_type": "stream",
     "text": [
      "[[ 12.88473     2.9463365 -12.114249 ]]\n"
     ]
    }
   ],
   "source": [
    "model = tf.keras.models.load_model('classifier 3_split_final')\n",
    "results = model.predict(pred_ds)\n",
    "print(results)"
   ]
  },
  {
   "cell_type": "code",
   "execution_count": 14,
   "id": "8e581fe8",
   "metadata": {},
   "outputs": [],
   "source": [
    "probability_model = tf.keras.Sequential([model, tf.keras.layers.Softmax()])"
   ]
  },
  {
   "cell_type": "code",
   "execution_count": 15,
   "id": "73c009d6",
   "metadata": {},
   "outputs": [
    {
     "data": {
      "text/plain": [
       "array([[9.9995172e-01, 4.8282476e-05, 1.3901451e-11]], dtype=float32)"
      ]
     },
     "execution_count": 15,
     "metadata": {},
     "output_type": "execute_result"
    }
   ],
   "source": [
    "probability_model.predict(pred_ds)"
   ]
  },
  {
   "cell_type": "code",
   "execution_count": 31,
   "id": "cabaf5e0",
   "metadata": {},
   "outputs": [],
   "source": [
    "img = Image.open('300.jpg')\n",
    "img_resize = img.copy()"
   ]
  },
  {
   "cell_type": "code",
   "execution_count": 35,
   "id": "44ea5c3f",
   "metadata": {},
   "outputs": [],
   "source": [
    "img_resized = img_resize.resize((900,900))"
   ]
  },
  {
   "cell_type": "code",
   "execution_count": 37,
   "id": "3936ebf3",
   "metadata": {},
   "outputs": [],
   "source": [
    "img = (np.expand_dims(img_resized,0))"
   ]
  },
  {
   "cell_type": "code",
   "execution_count": 39,
   "id": "ad3ca4c0",
   "metadata": {},
   "outputs": [
    {
     "name": "stdout",
     "output_type": "stream",
     "text": [
      "[[8.6825818e-24 4.2689783e-14 1.0000000e+00]]\n"
     ]
    }
   ],
   "source": [
    "predictions_single = probability_model.predict(img)\n",
    "\n",
    "print(predictions_single)"
   ]
  },
  {
   "cell_type": "code",
   "execution_count": null,
   "id": "b280c935",
   "metadata": {},
   "outputs": [],
   "source": []
  }
 ],
 "metadata": {
  "kernelspec": {
   "display_name": "Python 3 (ipykernel)",
   "language": "python",
   "name": "python3"
  },
  "language_info": {
   "codemirror_mode": {
    "name": "ipython",
    "version": 3
   },
   "file_extension": ".py",
   "mimetype": "text/x-python",
   "name": "python",
   "nbconvert_exporter": "python",
   "pygments_lexer": "ipython3",
   "version": "3.9.10"
  }
 },
 "nbformat": 4,
 "nbformat_minor": 5
}
