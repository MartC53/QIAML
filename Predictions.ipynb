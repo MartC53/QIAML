{
 "cells": [
  {
   "cell_type": "code",
   "execution_count": 1,
   "id": "a3d01346",
   "metadata": {
    "scrolled": false
   },
   "outputs": [
    {
     "name": "stderr",
     "output_type": "stream",
     "text": [
      "2022-03-14 23:49:46.010828: W tensorflow/stream_executor/platform/default/dso_loader.cc:64] Could not load dynamic library 'libcudart.so.11.0'; dlerror: libcudart.so.11.0: cannot open shared object file: No such file or directory\n",
      "2022-03-14 23:49:46.010880: I tensorflow/stream_executor/cuda/cudart_stub.cc:29] Ignore above cudart dlerror if you do not have a GPU set up on your machine.\n"
     ]
    },
    {
     "name": "stdout",
     "output_type": "stream",
     "text": [
      "Requirement already satisfied: pycocotools in /home/leorr/.local/lib/python3.9/site-packages (2.0.4)\n",
      "Requirement already satisfied: numpy in /home/leorr/anaconda3/envs/tensor/lib/python3.9/site-packages (from pycocotools) (1.19.5)\n",
      "Requirement already satisfied: matplotlib>=2.1.0 in /home/leorr/anaconda3/envs/tensor/lib/python3.9/site-packages (from pycocotools) (3.5.1)\n",
      "Requirement already satisfied: pyparsing>=2.2.1 in /home/leorr/anaconda3/envs/tensor/lib/python3.9/site-packages (from matplotlib>=2.1.0->pycocotools) (3.0.7)\n",
      "Requirement already satisfied: fonttools>=4.22.0 in /home/leorr/anaconda3/envs/tensor/lib/python3.9/site-packages (from matplotlib>=2.1.0->pycocotools) (4.30.0)\n",
      "Requirement already satisfied: cycler>=0.10 in /home/leorr/anaconda3/envs/tensor/lib/python3.9/site-packages (from matplotlib>=2.1.0->pycocotools) (0.11.0)\n",
      "Requirement already satisfied: kiwisolver>=1.0.1 in /home/leorr/anaconda3/envs/tensor/lib/python3.9/site-packages (from matplotlib>=2.1.0->pycocotools) (1.3.2)\n",
      "Requirement already satisfied: packaging>=20.0 in /home/leorr/anaconda3/envs/tensor/lib/python3.9/site-packages (from matplotlib>=2.1.0->pycocotools) (21.3)\n",
      "Requirement already satisfied: pillow>=6.2.0 in /home/leorr/anaconda3/envs/tensor/lib/python3.9/site-packages (from matplotlib>=2.1.0->pycocotools) (9.0.1)\n",
      "Requirement already satisfied: python-dateutil>=2.7 in /home/leorr/anaconda3/envs/tensor/lib/python3.9/site-packages (from matplotlib>=2.1.0->pycocotools) (2.8.2)\n",
      "Requirement already satisfied: six>=1.5 in /home/leorr/anaconda3/envs/tensor/lib/python3.9/site-packages (from python-dateutil>=2.7->matplotlib>=2.1.0->pycocotools) (1.15.0)\n"
     ]
    }
   ],
   "source": [
    "import numpy as np\n",
    "import tensorflow as tf\n",
    "from PIL import Image\n",
    "!pip install pycocotools --user"
   ]
  },
  {
   "cell_type": "code",
   "execution_count": 18,
   "id": "fc147741",
   "metadata": {},
   "outputs": [],
   "source": [
    "model = tf.keras.models.load_model('classmodel')"
   ]
  },
  {
   "cell_type": "code",
   "execution_count": 19,
   "id": "b190b107",
   "metadata": {},
   "outputs": [],
   "source": [
    "#probability_model = tf.keras.Sequential([model, tf.keras.layers.Softmax()])"
   ]
  },
  {
   "cell_type": "code",
   "execution_count": 27,
   "id": "850535dc",
   "metadata": {},
   "outputs": [],
   "source": [
    "img = Image.open('300.3.jpg')\n",
    "img_resize = img.copy()"
   ]
  },
  {
   "cell_type": "code",
   "execution_count": 28,
   "id": "d7fbc148",
   "metadata": {},
   "outputs": [],
   "source": [
    "img_resized = img_resize.resize((900,900))"
   ]
  },
  {
   "cell_type": "code",
   "execution_count": 29,
   "id": "af8da97a",
   "metadata": {},
   "outputs": [],
   "source": [
    "img_test = (np.expand_dims(img_resized,0))"
   ]
  },
  {
   "cell_type": "code",
   "execution_count": 30,
   "id": "65ce3ef4",
   "metadata": {},
   "outputs": [
    {
     "name": "stdout",
     "output_type": "stream",
     "text": [
      "[[-23.16564    -2.5418847  25.866259 ]]\n"
     ]
    }
   ],
   "source": [
    "predictions_single = model.predict(img_test)\n",
    "\n",
    "print(predictions_single)"
   ]
  },
  {
   "cell_type": "code",
   "execution_count": 31,
   "id": "2e8cbf06",
   "metadata": {},
   "outputs": [
    {
     "data": {
      "text/plain": [
       "array([[-23.16564  ,  -2.5418847,  25.866259 ]], dtype=float32)"
      ]
     },
     "execution_count": 31,
     "metadata": {},
     "output_type": "execute_result"
    }
   ],
   "source": [
    "predictions_single"
   ]
  },
  {
   "cell_type": "code",
   "execution_count": 9,
   "id": "6e7c4226",
   "metadata": {},
   "outputs": [
    {
     "name": "stdout",
     "output_type": "stream",
     "text": [
      "2\n"
     ]
    }
   ],
   "source": [
    "predict = np.argmax(predictions_single[0])\n",
    "print(predict)"
   ]
  },
  {
   "cell_type": "code",
   "execution_count": 10,
   "id": "0c104247",
   "metadata": {},
   "outputs": [
    {
     "data": {
      "text/plain": [
       "1.0"
      ]
     },
     "execution_count": 10,
     "metadata": {},
     "output_type": "execute_result"
    }
   ],
   "source": [
    "predictions_single[0][2]"
   ]
  },
  {
   "cell_type": "code",
   "execution_count": 11,
   "id": "e4f75d0d",
   "metadata": {},
   "outputs": [
    {
     "data": {
      "text/plain": [
       "(851, 817)"
      ]
     },
     "execution_count": 11,
     "metadata": {},
     "output_type": "execute_result"
    }
   ],
   "source": [
    "img.size"
   ]
  },
  {
   "cell_type": "code",
   "execution_count": 12,
   "id": "3c6b3967",
   "metadata": {},
   "outputs": [
    {
     "data": {
      "text/plain": [
       "(900, 900)"
      ]
     },
     "execution_count": 12,
     "metadata": {},
     "output_type": "execute_result"
    }
   ],
   "source": [
    "img_resized.size"
   ]
  },
  {
   "cell_type": "code",
   "execution_count": null,
   "id": "0bc8817a",
   "metadata": {},
   "outputs": [],
   "source": []
  }
 ],
 "metadata": {
  "kernelspec": {
   "display_name": "Python 3 (ipykernel)",
   "language": "python",
   "name": "python3"
  },
  "language_info": {
   "codemirror_mode": {
    "name": "ipython",
    "version": 3
   },
   "file_extension": ".py",
   "mimetype": "text/x-python",
   "name": "python",
   "nbconvert_exporter": "python",
   "pygments_lexer": "ipython3",
   "version": "3.9.10"
  }
 },
 "nbformat": 4,
 "nbformat_minor": 5
}
