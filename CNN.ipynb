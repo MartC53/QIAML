{
 "cells": [
  {
   "cell_type": "code",
   "execution_count": 52,
   "id": "9bb2172d",
   "metadata": {},
   "outputs": [],
   "source": [
    "from tensorflow.keras.optimizers import Adam\n",
    "import numpy as np\n",
    "from get_data import get_data_array as get_data\n",
    "import tensorflow as tf\n",
    "from sklearn.preprocessing import StandardScaler\n",
    "from keras.wrappers.scikit_learn import KerasRegressor\n",
    "\n",
    "seed = 53"
   ]
  },
  {
   "cell_type": "code",
   "execution_count": 76,
   "id": "e1af54d7",
   "metadata": {},
   "outputs": [
    {
     "data": {
      "text/plain": [
       "array([array([[6, 6, 6, ..., 6, 6, 6],\n",
       "              [6, 6, 6, ..., 6, 6, 6],\n",
       "              [6, 6, 6, ..., 6, 6, 6],\n",
       "              ...,\n",
       "              [1, 1, 1, ..., 6, 6, 6],\n",
       "              [1, 1, 1, ..., 6, 6, 6],\n",
       "              [1, 1, 1, ..., 6, 6, 6]]), '100'], dtype=object)"
      ]
     },
     "execution_count": 76,
     "metadata": {},
     "output_type": "execute_result"
    }
   ],
   "source": [
    "test = get_data('AB')\n",
    "train = get_data('C')\n",
    "# test = test[:][0][0]\n",
    "train_example = test[:][0][0]\n",
    "train_quants = test[:][][1]\n",
    "train_quants\n"
   ]
  },
  {
   "cell_type": "code",
   "execution_count": 3,
   "id": "c93c7e09",
   "metadata": {},
   "outputs": [
    {
     "data": {
      "text/plain": [
       "[array([[0.02352941, 0.02745098, 0.02745098, ..., 0.01960784, 0.01960784,\n",
       "         0.01960784],\n",
       "        [0.02352941, 0.02745098, 0.02745098, ..., 0.01960784, 0.01960784,\n",
       "         0.01568627],\n",
       "        [0.02745098, 0.02745098, 0.02745098, ..., 0.01568627, 0.01568627,\n",
       "         0.01568627],\n",
       "        ...,\n",
       "        [0.00392157, 0.00392157, 0.00392157, ..., 0.01568627, 0.01960784,\n",
       "         0.01960784],\n",
       "        [0.00392157, 0.00392157, 0.00392157, ..., 0.01960784, 0.01960784,\n",
       "         0.01960784],\n",
       "        [0.00392157, 0.00392157, 0.00392157, ..., 0.01960784, 0.01960784,\n",
       "         0.02352941]]),\n",
       " array([[0.02352941, 0.02745098, 0.02745098, ..., 0.01960784, 0.01960784,\n",
       "         0.01960784],\n",
       "        [0.02352941, 0.02745098, 0.02745098, ..., 0.01960784, 0.01960784,\n",
       "         0.01568627],\n",
       "        [0.02745098, 0.02745098, 0.02745098, ..., 0.01568627, 0.01568627,\n",
       "         0.01568627],\n",
       "        ...,\n",
       "        [0.00392157, 0.00392157, 0.00392157, ..., 0.01568627, 0.01960784,\n",
       "         0.01960784],\n",
       "        [0.00392157, 0.00392157, 0.00392157, ..., 0.01960784, 0.01960784,\n",
       "         0.01960784],\n",
       "        [0.00392157, 0.00392157, 0.00392157, ..., 0.01960784, 0.01960784,\n",
       "         0.02352941]]),\n",
       " array([[0.02352941, 0.02745098, 0.02745098, ..., 0.01960784, 0.01960784,\n",
       "         0.01960784],\n",
       "        [0.02352941, 0.02745098, 0.02745098, ..., 0.01960784, 0.01960784,\n",
       "         0.01568627],\n",
       "        [0.02745098, 0.02745098, 0.02745098, ..., 0.01568627, 0.01568627,\n",
       "         0.01568627],\n",
       "        ...,\n",
       "        [0.00392157, 0.00392157, 0.00392157, ..., 0.01568627, 0.01960784,\n",
       "         0.01960784],\n",
       "        [0.00392157, 0.00392157, 0.00392157, ..., 0.01960784, 0.01960784,\n",
       "         0.01960784],\n",
       "        [0.00392157, 0.00392157, 0.00392157, ..., 0.01960784, 0.01960784,\n",
       "         0.02352941]]),\n",
       " array([[0.02352941, 0.02745098, 0.02745098, ..., 0.01960784, 0.01960784,\n",
       "         0.01960784],\n",
       "        [0.02352941, 0.02745098, 0.02745098, ..., 0.01960784, 0.01960784,\n",
       "         0.01568627],\n",
       "        [0.02745098, 0.02745098, 0.02745098, ..., 0.01568627, 0.01568627,\n",
       "         0.01568627],\n",
       "        ...,\n",
       "        [0.00392157, 0.00392157, 0.00392157, ..., 0.01568627, 0.01960784,\n",
       "         0.01960784],\n",
       "        [0.00392157, 0.00392157, 0.00392157, ..., 0.01960784, 0.01960784,\n",
       "         0.01960784],\n",
       "        [0.00392157, 0.00392157, 0.00392157, ..., 0.01960784, 0.01960784,\n",
       "         0.02352941]]),\n",
       " array([[0.02352941, 0.02745098, 0.02745098, ..., 0.01960784, 0.01960784,\n",
       "         0.01960784],\n",
       "        [0.02352941, 0.02745098, 0.02745098, ..., 0.01960784, 0.01960784,\n",
       "         0.01568627],\n",
       "        [0.02745098, 0.02745098, 0.02745098, ..., 0.01568627, 0.01568627,\n",
       "         0.01568627],\n",
       "        ...,\n",
       "        [0.00392157, 0.00392157, 0.00392157, ..., 0.01568627, 0.01960784,\n",
       "         0.01960784],\n",
       "        [0.00392157, 0.00392157, 0.00392157, ..., 0.01960784, 0.01960784,\n",
       "         0.01960784],\n",
       "        [0.00392157, 0.00392157, 0.00392157, ..., 0.01960784, 0.01960784,\n",
       "         0.02352941]]),\n",
       " array([[0.02352941, 0.02745098, 0.02745098, ..., 0.01960784, 0.01960784,\n",
       "         0.01960784],\n",
       "        [0.02352941, 0.02745098, 0.02745098, ..., 0.01960784, 0.01960784,\n",
       "         0.01568627],\n",
       "        [0.02745098, 0.02745098, 0.02745098, ..., 0.01568627, 0.01568627,\n",
       "         0.01568627],\n",
       "        ...,\n",
       "        [0.00392157, 0.00392157, 0.00392157, ..., 0.01568627, 0.01960784,\n",
       "         0.01960784],\n",
       "        [0.00392157, 0.00392157, 0.00392157, ..., 0.01960784, 0.01960784,\n",
       "         0.01960784],\n",
       "        [0.00392157, 0.00392157, 0.00392157, ..., 0.01960784, 0.01960784,\n",
       "         0.02352941]])]"
      ]
     },
     "execution_count": 3,
     "metadata": {},
     "output_type": "execute_result"
    }
   ],
   "source": [
    "# train_quants = train['Copy number'].to_numpy().astype(float)\n",
    "# train_examples = train['Images'].values.tolist()\n",
    "# # train_examples[0][0]\n",
    "# de_listed=[]\n",
    "# for i in train_examples:\n",
    "#     img = train_examples[:][0]\n",
    "#     de_listed.append(img)\n",
    "# de_listed\n",
    "train_dataset = tf.data.Dataset.from_tensor_slices((train_examples, train_quants))\n",
    "# test_dataset = tf.data.Dataset.from_tensor_slices((test_examples, test_labels))"
   ]
  },
  {
   "cell_type": "code",
   "execution_count": 27,
   "id": "cf03c9d1",
   "metadata": {},
   "outputs": [
    {
     "data": {
      "text/plain": [
       "<bound method IndexOpsMixin.to_numpy of 0    [[0.023529411764705882, 0.027450980392156862, ...\n",
       "1    [[0.027450980392156862, 0.027450980392156862, ...\n",
       "2    [[0.027450980392156862, 0.027450980392156862, ...\n",
       "3    [[0.047058823529411764, 0.047058823529411764, ...\n",
       "4    [[0.0196078431372549, 0.0196078431372549, 0.01...\n",
       "5    [[0.01568627450980392, 0.01568627450980392, 0....\n",
       "Name: Images, dtype: object>"
      ]
     },
     "execution_count": 27,
     "metadata": {},
     "output_type": "execute_result"
    }
   ],
   "source": [
    "X_train = train['Copy number'].values\n",
    "X_test = test['Copy number']\n",
    "y_train = train['Images'].to_numpy\n",
    "y_test = test['Images']\n",
    "y_train"
   ]
  },
  {
   "cell_type": "code",
   "execution_count": 21,
   "id": "1c252203",
   "metadata": {},
   "outputs": [],
   "source": [
    "def simple_network():\n",
    "    model = tf.keras.Sequential()\n",
    "    model.add(tf.keras.layers.Dense(8))\n",
    "    model.add(tf.keras.layers.Dense(4))\n",
    "    model.compile(loss='mean_squared_error', optimizer='adam')\n",
    "    return model"
   ]
  },
  {
   "cell_type": "code",
   "execution_count": 22,
   "id": "3f083663",
   "metadata": {},
   "outputs": [
    {
     "ename": "ValueError",
     "evalue": "This model has not yet been built. Build the model first by calling `build()` or calling `fit()` with some data, or specify an `input_shape` argument in the first layer(s) for automatic build.",
     "output_type": "error",
     "traceback": [
      "\u001b[0;31m---------------------------------------------------------------------------\u001b[0m",
      "\u001b[0;31mValueError\u001b[0m                                Traceback (most recent call last)",
      "\u001b[0;32m/tmp/ipykernel_13802/2576944799.py\u001b[0m in \u001b[0;36m<module>\u001b[0;34m\u001b[0m\n\u001b[1;32m      1\u001b[0m \u001b[0mmy_model\u001b[0m \u001b[0;34m=\u001b[0m \u001b[0msimple_network\u001b[0m\u001b[0;34m(\u001b[0m\u001b[0;34m)\u001b[0m\u001b[0;34m\u001b[0m\u001b[0;34m\u001b[0m\u001b[0m\n\u001b[0;32m----> 2\u001b[0;31m \u001b[0mmy_model\u001b[0m\u001b[0;34m.\u001b[0m\u001b[0msummary\u001b[0m\u001b[0;34m(\u001b[0m\u001b[0;34m)\u001b[0m\u001b[0;34m\u001b[0m\u001b[0;34m\u001b[0m\u001b[0m\n\u001b[0m",
      "\u001b[0;32m~/miniconda3/envs/py37/lib/python3.7/site-packages/tensorflow_core/python/keras/engine/network.py\u001b[0m in \u001b[0;36msummary\u001b[0;34m(self, line_length, positions, print_fn)\u001b[0m\n\u001b[1;32m   1300\u001b[0m     \"\"\"\n\u001b[1;32m   1301\u001b[0m     \u001b[0;32mif\u001b[0m \u001b[0;32mnot\u001b[0m \u001b[0mself\u001b[0m\u001b[0;34m.\u001b[0m\u001b[0mbuilt\u001b[0m\u001b[0;34m:\u001b[0m\u001b[0;34m\u001b[0m\u001b[0;34m\u001b[0m\u001b[0m\n\u001b[0;32m-> 1302\u001b[0;31m       raise ValueError('This model has not yet been built. '\n\u001b[0m\u001b[1;32m   1303\u001b[0m                        \u001b[0;34m'Build the model first by calling `build()` or calling '\u001b[0m\u001b[0;34m\u001b[0m\u001b[0;34m\u001b[0m\u001b[0m\n\u001b[1;32m   1304\u001b[0m                        \u001b[0;34m'`fit()` with some data, or specify '\u001b[0m\u001b[0;34m\u001b[0m\u001b[0;34m\u001b[0m\u001b[0m\n",
      "\u001b[0;31mValueError\u001b[0m: This model has not yet been built. Build the model first by calling `build()` or calling `fit()` with some data, or specify an `input_shape` argument in the first layer(s) for automatic build."
     ]
    }
   ],
   "source": [
    "my_model = simple_network()\n",
    "my_model.summary()"
   ]
  },
  {
   "cell_type": "code",
   "execution_count": 23,
   "id": "f952d7e0",
   "metadata": {},
   "outputs": [
    {
     "ename": "ValueError",
     "evalue": "Failed to find data adapter that can handle input: (<class 'list'> containing values of types {\"<class 'str'>\"}), <class 'pandas.core.series.Series'>",
     "output_type": "error",
     "traceback": [
      "\u001b[0;31m---------------------------------------------------------------------------\u001b[0m",
      "\u001b[0;31mValueError\u001b[0m                                Traceback (most recent call last)",
      "\u001b[0;32m/tmp/ipykernel_13802/3453120610.py\u001b[0m in \u001b[0;36m<module>\u001b[0;34m\u001b[0m\n\u001b[1;32m      4\u001b[0m         epochs=150, batch_size=10000, verbose=0)\n\u001b[1;32m      5\u001b[0m history = estimator.fit(X_train, y_train, validation_split=0.33, epochs=15, \n\u001b[0;32m----> 6\u001b[0;31m         batch_size=10000, verbose=1)\n\u001b[0m",
      "\u001b[0;32m~/miniconda3/envs/py37/lib/python3.7/site-packages/keras/wrappers/scikit_learn.py\u001b[0m in \u001b[0;36mfit\u001b[0;34m(self, x, y, **kwargs)\u001b[0m\n\u001b[1;32m    149\u001b[0m         \u001b[0mfit_args\u001b[0m\u001b[0;34m.\u001b[0m\u001b[0mupdate\u001b[0m\u001b[0;34m(\u001b[0m\u001b[0mkwargs\u001b[0m\u001b[0;34m)\u001b[0m\u001b[0;34m\u001b[0m\u001b[0;34m\u001b[0m\u001b[0m\n\u001b[1;32m    150\u001b[0m \u001b[0;34m\u001b[0m\u001b[0m\n\u001b[0;32m--> 151\u001b[0;31m         \u001b[0mhistory\u001b[0m \u001b[0;34m=\u001b[0m \u001b[0mself\u001b[0m\u001b[0;34m.\u001b[0m\u001b[0mmodel\u001b[0m\u001b[0;34m.\u001b[0m\u001b[0mfit\u001b[0m\u001b[0;34m(\u001b[0m\u001b[0mx\u001b[0m\u001b[0;34m,\u001b[0m \u001b[0my\u001b[0m\u001b[0;34m,\u001b[0m \u001b[0;34m**\u001b[0m\u001b[0mfit_args\u001b[0m\u001b[0;34m)\u001b[0m\u001b[0;34m\u001b[0m\u001b[0;34m\u001b[0m\u001b[0m\n\u001b[0m\u001b[1;32m    152\u001b[0m \u001b[0;34m\u001b[0m\u001b[0m\n\u001b[1;32m    153\u001b[0m         \u001b[0;32mreturn\u001b[0m \u001b[0mhistory\u001b[0m\u001b[0;34m\u001b[0m\u001b[0;34m\u001b[0m\u001b[0m\n",
      "\u001b[0;32m~/miniconda3/envs/py37/lib/python3.7/site-packages/tensorflow_core/python/keras/engine/training.py\u001b[0m in \u001b[0;36mfit\u001b[0;34m(self, x, y, batch_size, epochs, verbose, callbacks, validation_split, validation_data, shuffle, class_weight, sample_weight, initial_epoch, steps_per_epoch, validation_steps, validation_freq, max_queue_size, workers, use_multiprocessing, **kwargs)\u001b[0m\n\u001b[1;32m    817\u001b[0m         \u001b[0mmax_queue_size\u001b[0m\u001b[0;34m=\u001b[0m\u001b[0mmax_queue_size\u001b[0m\u001b[0;34m,\u001b[0m\u001b[0;34m\u001b[0m\u001b[0;34m\u001b[0m\u001b[0m\n\u001b[1;32m    818\u001b[0m         \u001b[0mworkers\u001b[0m\u001b[0;34m=\u001b[0m\u001b[0mworkers\u001b[0m\u001b[0;34m,\u001b[0m\u001b[0;34m\u001b[0m\u001b[0;34m\u001b[0m\u001b[0m\n\u001b[0;32m--> 819\u001b[0;31m         use_multiprocessing=use_multiprocessing)\n\u001b[0m\u001b[1;32m    820\u001b[0m \u001b[0;34m\u001b[0m\u001b[0m\n\u001b[1;32m    821\u001b[0m   def evaluate(self,\n",
      "\u001b[0;32m~/miniconda3/envs/py37/lib/python3.7/site-packages/tensorflow_core/python/keras/engine/training_v2.py\u001b[0m in \u001b[0;36mfit\u001b[0;34m(self, model, x, y, batch_size, epochs, verbose, callbacks, validation_split, validation_data, shuffle, class_weight, sample_weight, initial_epoch, steps_per_epoch, validation_steps, validation_freq, max_queue_size, workers, use_multiprocessing, **kwargs)\u001b[0m\n\u001b[1;32m    233\u001b[0m           \u001b[0mmax_queue_size\u001b[0m\u001b[0;34m=\u001b[0m\u001b[0mmax_queue_size\u001b[0m\u001b[0;34m,\u001b[0m\u001b[0;34m\u001b[0m\u001b[0;34m\u001b[0m\u001b[0m\n\u001b[1;32m    234\u001b[0m           \u001b[0mworkers\u001b[0m\u001b[0;34m=\u001b[0m\u001b[0mworkers\u001b[0m\u001b[0;34m,\u001b[0m\u001b[0;34m\u001b[0m\u001b[0;34m\u001b[0m\u001b[0m\n\u001b[0;32m--> 235\u001b[0;31m           use_multiprocessing=use_multiprocessing)\n\u001b[0m\u001b[1;32m    236\u001b[0m \u001b[0;34m\u001b[0m\u001b[0m\n\u001b[1;32m    237\u001b[0m       \u001b[0mtotal_samples\u001b[0m \u001b[0;34m=\u001b[0m \u001b[0m_get_total_number_of_samples\u001b[0m\u001b[0;34m(\u001b[0m\u001b[0mtraining_data_adapter\u001b[0m\u001b[0;34m)\u001b[0m\u001b[0;34m\u001b[0m\u001b[0;34m\u001b[0m\u001b[0m\n",
      "\u001b[0;32m~/miniconda3/envs/py37/lib/python3.7/site-packages/tensorflow_core/python/keras/engine/training_v2.py\u001b[0m in \u001b[0;36m_process_training_inputs\u001b[0;34m(model, x, y, batch_size, epochs, sample_weights, class_weights, steps_per_epoch, validation_split, validation_data, validation_steps, shuffle, distribution_strategy, max_queue_size, workers, use_multiprocessing)\u001b[0m\n\u001b[1;32m    531\u001b[0m                      'at same time.')\n\u001b[1;32m    532\u001b[0m \u001b[0;34m\u001b[0m\u001b[0m\n\u001b[0;32m--> 533\u001b[0;31m   \u001b[0madapter_cls\u001b[0m \u001b[0;34m=\u001b[0m \u001b[0mdata_adapter\u001b[0m\u001b[0;34m.\u001b[0m\u001b[0mselect_data_adapter\u001b[0m\u001b[0;34m(\u001b[0m\u001b[0mx\u001b[0m\u001b[0;34m,\u001b[0m \u001b[0my\u001b[0m\u001b[0;34m)\u001b[0m\u001b[0;34m\u001b[0m\u001b[0;34m\u001b[0m\u001b[0m\n\u001b[0m\u001b[1;32m    534\u001b[0m \u001b[0;34m\u001b[0m\u001b[0m\n\u001b[1;32m    535\u001b[0m   \u001b[0;31m# Handle validation_split, we want to split the data and get the training\u001b[0m\u001b[0;34m\u001b[0m\u001b[0;34m\u001b[0m\u001b[0;34m\u001b[0m\u001b[0m\n",
      "\u001b[0;32m~/miniconda3/envs/py37/lib/python3.7/site-packages/tensorflow_core/python/keras/engine/data_adapter.py\u001b[0m in \u001b[0;36mselect_data_adapter\u001b[0;34m(x, y)\u001b[0m\n\u001b[1;32m    996\u001b[0m         \u001b[0;34m\"Failed to find data adapter that can handle \"\u001b[0m\u001b[0;34m\u001b[0m\u001b[0;34m\u001b[0m\u001b[0m\n\u001b[1;32m    997\u001b[0m         \"input: {}, {}\".format(\n\u001b[0;32m--> 998\u001b[0;31m             _type_name(x), _type_name(y)))\n\u001b[0m\u001b[1;32m    999\u001b[0m   \u001b[0;32melif\u001b[0m \u001b[0mlen\u001b[0m\u001b[0;34m(\u001b[0m\u001b[0madapter_cls\u001b[0m\u001b[0;34m)\u001b[0m \u001b[0;34m>\u001b[0m \u001b[0;36m1\u001b[0m\u001b[0;34m:\u001b[0m\u001b[0;34m\u001b[0m\u001b[0;34m\u001b[0m\u001b[0m\n\u001b[1;32m   1000\u001b[0m     raise RuntimeError(\n",
      "\u001b[0;31mValueError\u001b[0m: Failed to find data adapter that can handle input: (<class 'list'> containing values of types {\"<class 'str'>\"}), <class 'pandas.core.series.Series'>"
     ]
    }
   ],
   "source": [
    "np.random.seed(seed)\n",
    "# create the NN framework\n",
    "estimator = KerasRegressor(build_fn=simple_network,\n",
    "        epochs=150, batch_size=10000, verbose=0)\n",
    "history = estimator.fit(X_train, y_train, validation_split=0.33, epochs=15, \n",
    "        batch_size=10000, verbose=1)"
   ]
  },
  {
   "cell_type": "code",
   "execution_count": null,
   "id": "237e6c42",
   "metadata": {},
   "outputs": [],
   "source": []
  }
 ],
 "metadata": {
  "kernelspec": {
   "display_name": "Python 3 (ipykernel)",
   "language": "python",
   "name": "python3"
  },
  "language_info": {
   "codemirror_mode": {
    "name": "ipython",
    "version": 3
   },
   "file_extension": ".py",
   "mimetype": "text/x-python",
   "name": "python",
   "nbconvert_exporter": "python",
   "pygments_lexer": "ipython3",
   "version": "3.7.11"
  }
 },
 "nbformat": 4,
 "nbformat_minor": 5
}
