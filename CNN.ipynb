{
 "cells": [
  {
   "cell_type": "code",
   "execution_count": 18,
   "id": "43325fb2",
   "metadata": {},
   "outputs": [],
   "source": [
    "from get_data import get_data_array\n",
    "import matplotlib.pyplot as plt\n",
    "import pandas as pd\n",
    "train = get_data_array('AB')\n",
    "\n",
    "test = get_data_array('C')\n"
   ]
  },
  {
   "cell_type": "code",
   "execution_count": 28,
   "id": "a5445632",
   "metadata": {},
   "outputs": [],
   "source": [
    "df_test = pd.DataFrame(train)"
   ]
  },
  {
   "cell_type": "code",
   "execution_count": 29,
   "id": "b1ad0a89",
   "metadata": {},
   "outputs": [],
   "source": [
    "df_train = pd.DataFrame(test)"
   ]
  },
  {
   "cell_type": "code",
   "execution_count": 30,
   "id": "e4c0ec4d",
   "metadata": {},
   "outputs": [
    {
     "data": {
      "text/html": [
       "<div>\n",
       "<style scoped>\n",
       "    .dataframe tbody tr th:only-of-type {\n",
       "        vertical-align: middle;\n",
       "    }\n",
       "\n",
       "    .dataframe tbody tr th {\n",
       "        vertical-align: top;\n",
       "    }\n",
       "\n",
       "    .dataframe thead th {\n",
       "        text-align: right;\n",
       "    }\n",
       "</style>\n",
       "<table border=\"1\" class=\"dataframe\">\n",
       "  <thead>\n",
       "    <tr style=\"text-align: right;\">\n",
       "      <th></th>\n",
       "      <th>0</th>\n",
       "      <th>1</th>\n",
       "    </tr>\n",
       "  </thead>\n",
       "  <tbody>\n",
       "    <tr>\n",
       "      <th>0</th>\n",
       "      <td>[[10, 10, 10, 9, 9, 9, 9, 9, 9, 9, 9, 9, 9, 9,...</td>\n",
       "      <td>100</td>\n",
       "    </tr>\n",
       "    <tr>\n",
       "      <th>1</th>\n",
       "      <td>[[6, 6, 6, 6, 6, 6, 6, 6, 6, 6, 5, 6, 6, 6, 7,...</td>\n",
       "      <td>100</td>\n",
       "    </tr>\n",
       "    <tr>\n",
       "      <th>2</th>\n",
       "      <td>[[9, 9, 9, 9, 9, 8, 8, 8, 8, 8, 8, 8, 8, 8, 8,...</td>\n",
       "      <td>1000</td>\n",
       "    </tr>\n",
       "    <tr>\n",
       "      <th>3</th>\n",
       "      <td>[[11, 11, 11, 11, 11, 10, 10, 10, 10, 10, 10, ...</td>\n",
       "      <td>1000</td>\n",
       "    </tr>\n",
       "    <tr>\n",
       "      <th>4</th>\n",
       "      <td>[[6, 6, 6, 6, 6, 6, 6, 6, 6, 6, 6, 6, 6, 6, 6,...</td>\n",
       "      <td>10000</td>\n",
       "    </tr>\n",
       "  </tbody>\n",
       "</table>\n",
       "</div>"
      ],
      "text/plain": [
       "                                                   0      1\n",
       "0  [[10, 10, 10, 9, 9, 9, 9, 9, 9, 9, 9, 9, 9, 9,...    100\n",
       "1  [[6, 6, 6, 6, 6, 6, 6, 6, 6, 6, 5, 6, 6, 6, 7,...    100\n",
       "2  [[9, 9, 9, 9, 9, 8, 8, 8, 8, 8, 8, 8, 8, 8, 8,...   1000\n",
       "3  [[11, 11, 11, 11, 11, 10, 10, 10, 10, 10, 10, ...   1000\n",
       "4  [[6, 6, 6, 6, 6, 6, 6, 6, 6, 6, 6, 6, 6, 6, 6,...  10000"
      ]
     },
     "execution_count": 30,
     "metadata": {},
     "output_type": "execute_result"
    }
   ],
   "source": [
    "df_test.head()"
   ]
  },
  {
   "cell_type": "code",
   "execution_count": 31,
   "id": "310f9230",
   "metadata": {},
   "outputs": [
    {
     "data": {
      "text/html": [
       "<div>\n",
       "<style scoped>\n",
       "    .dataframe tbody tr th:only-of-type {\n",
       "        vertical-align: middle;\n",
       "    }\n",
       "\n",
       "    .dataframe tbody tr th {\n",
       "        vertical-align: top;\n",
       "    }\n",
       "\n",
       "    .dataframe thead th {\n",
       "        text-align: right;\n",
       "    }\n",
       "</style>\n",
       "<table border=\"1\" class=\"dataframe\">\n",
       "  <thead>\n",
       "    <tr style=\"text-align: right;\">\n",
       "      <th></th>\n",
       "      <th>0</th>\n",
       "      <th>1</th>\n",
       "    </tr>\n",
       "  </thead>\n",
       "  <tbody>\n",
       "    <tr>\n",
       "      <th>0</th>\n",
       "      <td>[[10, 10, 10, 9, 9, 9, 9, 9, 9, 9, 9, 9, 9, 9,...</td>\n",
       "      <td>100</td>\n",
       "    </tr>\n",
       "    <tr>\n",
       "      <th>1</th>\n",
       "      <td>[[6, 6, 6, 6, 6, 6, 6, 6, 6, 6, 5, 6, 6, 6, 7,...</td>\n",
       "      <td>100</td>\n",
       "    </tr>\n",
       "    <tr>\n",
       "      <th>2</th>\n",
       "      <td>[[9, 9, 9, 9, 9, 8, 8, 8, 8, 8, 8, 8, 8, 8, 8,...</td>\n",
       "      <td>1000</td>\n",
       "    </tr>\n",
       "    <tr>\n",
       "      <th>3</th>\n",
       "      <td>[[11, 11, 11, 11, 11, 10, 10, 10, 10, 10, 10, ...</td>\n",
       "      <td>1000</td>\n",
       "    </tr>\n",
       "    <tr>\n",
       "      <th>4</th>\n",
       "      <td>[[6, 6, 6, 6, 6, 6, 6, 6, 6, 6, 6, 6, 6, 6, 6,...</td>\n",
       "      <td>10000</td>\n",
       "    </tr>\n",
       "  </tbody>\n",
       "</table>\n",
       "</div>"
      ],
      "text/plain": [
       "                                                   0      1\n",
       "0  [[10, 10, 10, 9, 9, 9, 9, 9, 9, 9, 9, 9, 9, 9,...    100\n",
       "1  [[6, 6, 6, 6, 6, 6, 6, 6, 6, 6, 5, 6, 6, 6, 7,...    100\n",
       "2  [[9, 9, 9, 9, 9, 8, 8, 8, 8, 8, 8, 8, 8, 8, 8,...   1000\n",
       "3  [[11, 11, 11, 11, 11, 10, 10, 10, 10, 10, 10, ...   1000\n",
       "4  [[6, 6, 6, 6, 6, 6, 6, 6, 6, 6, 6, 6, 6, 6, 6,...  10000"
      ]
     },
     "execution_count": 31,
     "metadata": {},
     "output_type": "execute_result"
    }
   ],
   "source": [
    "df_test.head()"
   ]
  },
  {
   "cell_type": "code",
   "execution_count": 46,
   "id": "b0e7e0b2",
   "metadata": {},
   "outputs": [],
   "source": [
    "for i in df_test:\n",
    "    plt.imshow(df_test.i)"
   ]
  },
  {
   "cell_type": "code",
   "execution_count": null,
   "id": "4cb84a30",
   "metadata": {},
   "outputs": [],
   "source": []
  },
  {
   "cell_type": "code",
   "execution_count": 49,
   "id": "8f129f2f",
   "metadata": {},
   "outputs": [
    {
     "ename": "TypeError",
     "evalue": "'tuple' object is not callable",
     "output_type": "error",
     "traceback": [
      "\u001b[0;31m---------------------------------------------------------------------------\u001b[0m",
      "\u001b[0;31mTypeError\u001b[0m                                 Traceback (most recent call last)",
      "\u001b[0;32m/tmp/ipykernel_277/2738509377.py\u001b[0m in \u001b[0;36m<module>\u001b[0;34m\u001b[0m\n\u001b[0;32m----> 1\u001b[0;31m \u001b[0msize_list\u001b[0m\u001b[0;34m.\u001b[0m\u001b[0mshape\u001b[0m\u001b[0;34m(\u001b[0m\u001b[0;34m)\u001b[0m\u001b[0;34m\u001b[0m\u001b[0;34m\u001b[0m\u001b[0m\n\u001b[0m",
      "\u001b[0;31mTypeError\u001b[0m: 'tuple' object is not callable"
     ]
    }
   ],
   "source": []
  },
  {
   "cell_type": "code",
   "execution_count": null,
   "id": "d3c7d31a",
   "metadata": {},
   "outputs": [],
   "source": []
  }
 ],
 "metadata": {
  "kernelspec": {
   "display_name": "Python 3 (ipykernel)",
   "language": "python",
   "name": "python3"
  },
  "language_info": {
   "codemirror_mode": {
    "name": "ipython",
    "version": 3
   },
   "file_extension": ".py",
   "mimetype": "text/x-python",
   "name": "python",
   "nbconvert_exporter": "python",
   "pygments_lexer": "ipython3",
   "version": "3.7.7"
  }
 },
 "nbformat": 4,
 "nbformat_minor": 5
}
