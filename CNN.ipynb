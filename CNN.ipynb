{
 "cells": [
  {
   "cell_type": "code",
   "execution_count": 1,
   "id": "9bb2172d",
   "metadata": {},
   "outputs": [
    {
     "name": "stderr",
     "output_type": "stream",
     "text": [
      "/home/colemar/miniconda3/envs/py37/lib/python3.7/site-packages/tensorflow/python/framework/dtypes.py:516: FutureWarning: Passing (type, 1) or '1type' as a synonym of type is deprecated; in a future version of numpy, it will be understood as (type, (1,)) / '(1,)type'.\n",
      "  _np_qint8 = np.dtype([(\"qint8\", np.int8, 1)])\n",
      "/home/colemar/miniconda3/envs/py37/lib/python3.7/site-packages/tensorflow/python/framework/dtypes.py:517: FutureWarning: Passing (type, 1) or '1type' as a synonym of type is deprecated; in a future version of numpy, it will be understood as (type, (1,)) / '(1,)type'.\n",
      "  _np_quint8 = np.dtype([(\"quint8\", np.uint8, 1)])\n",
      "/home/colemar/miniconda3/envs/py37/lib/python3.7/site-packages/tensorflow/python/framework/dtypes.py:518: FutureWarning: Passing (type, 1) or '1type' as a synonym of type is deprecated; in a future version of numpy, it will be understood as (type, (1,)) / '(1,)type'.\n",
      "  _np_qint16 = np.dtype([(\"qint16\", np.int16, 1)])\n",
      "/home/colemar/miniconda3/envs/py37/lib/python3.7/site-packages/tensorflow/python/framework/dtypes.py:519: FutureWarning: Passing (type, 1) or '1type' as a synonym of type is deprecated; in a future version of numpy, it will be understood as (type, (1,)) / '(1,)type'.\n",
      "  _np_quint16 = np.dtype([(\"quint16\", np.uint16, 1)])\n",
      "/home/colemar/miniconda3/envs/py37/lib/python3.7/site-packages/tensorflow/python/framework/dtypes.py:520: FutureWarning: Passing (type, 1) or '1type' as a synonym of type is deprecated; in a future version of numpy, it will be understood as (type, (1,)) / '(1,)type'.\n",
      "  _np_qint32 = np.dtype([(\"qint32\", np.int32, 1)])\n",
      "/home/colemar/miniconda3/envs/py37/lib/python3.7/site-packages/tensorflow/python/framework/dtypes.py:525: FutureWarning: Passing (type, 1) or '1type' as a synonym of type is deprecated; in a future version of numpy, it will be understood as (type, (1,)) / '(1,)type'.\n",
      "  np_resource = np.dtype([(\"resource\", np.ubyte, 1)])\n",
      "/home/colemar/miniconda3/envs/py37/lib/python3.7/site-packages/tensorboard/compat/tensorflow_stub/dtypes.py:541: FutureWarning: Passing (type, 1) or '1type' as a synonym of type is deprecated; in a future version of numpy, it will be understood as (type, (1,)) / '(1,)type'.\n",
      "  _np_qint8 = np.dtype([(\"qint8\", np.int8, 1)])\n",
      "/home/colemar/miniconda3/envs/py37/lib/python3.7/site-packages/tensorboard/compat/tensorflow_stub/dtypes.py:542: FutureWarning: Passing (type, 1) or '1type' as a synonym of type is deprecated; in a future version of numpy, it will be understood as (type, (1,)) / '(1,)type'.\n",
      "  _np_quint8 = np.dtype([(\"quint8\", np.uint8, 1)])\n",
      "/home/colemar/miniconda3/envs/py37/lib/python3.7/site-packages/tensorboard/compat/tensorflow_stub/dtypes.py:543: FutureWarning: Passing (type, 1) or '1type' as a synonym of type is deprecated; in a future version of numpy, it will be understood as (type, (1,)) / '(1,)type'.\n",
      "  _np_qint16 = np.dtype([(\"qint16\", np.int16, 1)])\n",
      "/home/colemar/miniconda3/envs/py37/lib/python3.7/site-packages/tensorboard/compat/tensorflow_stub/dtypes.py:544: FutureWarning: Passing (type, 1) or '1type' as a synonym of type is deprecated; in a future version of numpy, it will be understood as (type, (1,)) / '(1,)type'.\n",
      "  _np_quint16 = np.dtype([(\"quint16\", np.uint16, 1)])\n",
      "/home/colemar/miniconda3/envs/py37/lib/python3.7/site-packages/tensorboard/compat/tensorflow_stub/dtypes.py:545: FutureWarning: Passing (type, 1) or '1type' as a synonym of type is deprecated; in a future version of numpy, it will be understood as (type, (1,)) / '(1,)type'.\n",
      "  _np_qint32 = np.dtype([(\"qint32\", np.int32, 1)])\n",
      "/home/colemar/miniconda3/envs/py37/lib/python3.7/site-packages/tensorboard/compat/tensorflow_stub/dtypes.py:550: FutureWarning: Passing (type, 1) or '1type' as a synonym of type is deprecated; in a future version of numpy, it will be understood as (type, (1,)) / '(1,)type'.\n",
      "  np_resource = np.dtype([(\"resource\", np.ubyte, 1)])\n",
      "Using TensorFlow backend.\n"
     ]
    }
   ],
   "source": [
    "from tensorflow.keras.optimizers import Adam\n",
    "import numpy as np\n",
    "from get_data import get_data_df\n",
    "import tensorflow as tf\n",
    "from sklearn.preprocessing import StandardScaler\n",
    "from keras.wrappers.scikit_learn import KerasRegressor\n",
    "\n",
    "seed = 53"
   ]
  },
  {
   "cell_type": "code",
   "execution_count": 2,
   "id": "e1af54d7",
   "metadata": {},
   "outputs": [
    {
     "data": {
      "text/plain": [
       "(                                              Images Copy number\n",
       " 0  [[0.0392156862745098, 0.0392156862745098, 0.03...         100\n",
       " 1  [[0.023529411764705882, 0.023529411764705882, ...         100\n",
       " 2  [[0.03529411764705882, 0.03529411764705882, 0....        1000\n",
       " 3  [[0.043137254901960784, 0.043137254901960784, ...        1000\n",
       " 4  [[0.023529411764705882, 0.023529411764705882, ...       10000,\n",
       "                                               Images Copy number\n",
       " 0  [[0.023529411764705882, 0.027450980392156862, ...         100\n",
       " 1  [[0.027450980392156862, 0.027450980392156862, ...        1000\n",
       " 2  [[0.027450980392156862, 0.027450980392156862, ...       10000\n",
       " 3  [[0.047058823529411764, 0.047058823529411764, ...          30\n",
       " 4  [[0.0196078431372549, 0.0196078431372549, 0.01...         300)"
      ]
     },
     "execution_count": 2,
     "metadata": {},
     "output_type": "execute_result"
    }
   ],
   "source": [
    "test = get_data_df('AB')\n",
    "train = get_data_df('C')\n",
    "test['Images'] = test['Images']/255\n",
    "train['Images'] = train['Images']/255\n",
    "test.head(), train.head()"
   ]
  },
  {
   "cell_type": "code",
   "execution_count": 27,
   "id": "c93c7e09",
   "metadata": {},
   "outputs": [
    {
     "data": {
      "text/plain": [
       "[array([[0.02352941, 0.02745098, 0.02745098, ..., 0.01960784, 0.01960784,\n",
       "         0.01960784],\n",
       "        [0.02352941, 0.02745098, 0.02745098, ..., 0.01960784, 0.01960784,\n",
       "         0.01568627],\n",
       "        [0.02745098, 0.02745098, 0.02745098, ..., 0.01568627, 0.01568627,\n",
       "         0.01568627],\n",
       "        ...,\n",
       "        [0.00392157, 0.00392157, 0.00392157, ..., 0.01568627, 0.01960784,\n",
       "         0.01960784],\n",
       "        [0.00392157, 0.00392157, 0.00392157, ..., 0.01960784, 0.01960784,\n",
       "         0.01960784],\n",
       "        [0.00392157, 0.00392157, 0.00392157, ..., 0.01960784, 0.01960784,\n",
       "         0.02352941]]),\n",
       " array([[0.02352941, 0.02745098, 0.02745098, ..., 0.01960784, 0.01960784,\n",
       "         0.01960784],\n",
       "        [0.02352941, 0.02745098, 0.02745098, ..., 0.01960784, 0.01960784,\n",
       "         0.01568627],\n",
       "        [0.02745098, 0.02745098, 0.02745098, ..., 0.01568627, 0.01568627,\n",
       "         0.01568627],\n",
       "        ...,\n",
       "        [0.00392157, 0.00392157, 0.00392157, ..., 0.01568627, 0.01960784,\n",
       "         0.01960784],\n",
       "        [0.00392157, 0.00392157, 0.00392157, ..., 0.01960784, 0.01960784,\n",
       "         0.01960784],\n",
       "        [0.00392157, 0.00392157, 0.00392157, ..., 0.01960784, 0.01960784,\n",
       "         0.02352941]]),\n",
       " array([[0.02352941, 0.02745098, 0.02745098, ..., 0.01960784, 0.01960784,\n",
       "         0.01960784],\n",
       "        [0.02352941, 0.02745098, 0.02745098, ..., 0.01960784, 0.01960784,\n",
       "         0.01568627],\n",
       "        [0.02745098, 0.02745098, 0.02745098, ..., 0.01568627, 0.01568627,\n",
       "         0.01568627],\n",
       "        ...,\n",
       "        [0.00392157, 0.00392157, 0.00392157, ..., 0.01568627, 0.01960784,\n",
       "         0.01960784],\n",
       "        [0.00392157, 0.00392157, 0.00392157, ..., 0.01960784, 0.01960784,\n",
       "         0.01960784],\n",
       "        [0.00392157, 0.00392157, 0.00392157, ..., 0.01960784, 0.01960784,\n",
       "         0.02352941]]),\n",
       " array([[0.02352941, 0.02745098, 0.02745098, ..., 0.01960784, 0.01960784,\n",
       "         0.01960784],\n",
       "        [0.02352941, 0.02745098, 0.02745098, ..., 0.01960784, 0.01960784,\n",
       "         0.01568627],\n",
       "        [0.02745098, 0.02745098, 0.02745098, ..., 0.01568627, 0.01568627,\n",
       "         0.01568627],\n",
       "        ...,\n",
       "        [0.00392157, 0.00392157, 0.00392157, ..., 0.01568627, 0.01960784,\n",
       "         0.01960784],\n",
       "        [0.00392157, 0.00392157, 0.00392157, ..., 0.01960784, 0.01960784,\n",
       "         0.01960784],\n",
       "        [0.00392157, 0.00392157, 0.00392157, ..., 0.01960784, 0.01960784,\n",
       "         0.02352941]]),\n",
       " array([[0.02352941, 0.02745098, 0.02745098, ..., 0.01960784, 0.01960784,\n",
       "         0.01960784],\n",
       "        [0.02352941, 0.02745098, 0.02745098, ..., 0.01960784, 0.01960784,\n",
       "         0.01568627],\n",
       "        [0.02745098, 0.02745098, 0.02745098, ..., 0.01568627, 0.01568627,\n",
       "         0.01568627],\n",
       "        ...,\n",
       "        [0.00392157, 0.00392157, 0.00392157, ..., 0.01568627, 0.01960784,\n",
       "         0.01960784],\n",
       "        [0.00392157, 0.00392157, 0.00392157, ..., 0.01960784, 0.01960784,\n",
       "         0.01960784],\n",
       "        [0.00392157, 0.00392157, 0.00392157, ..., 0.01960784, 0.01960784,\n",
       "         0.02352941]]),\n",
       " array([[0.02352941, 0.02745098, 0.02745098, ..., 0.01960784, 0.01960784,\n",
       "         0.01960784],\n",
       "        [0.02352941, 0.02745098, 0.02745098, ..., 0.01960784, 0.01960784,\n",
       "         0.01568627],\n",
       "        [0.02745098, 0.02745098, 0.02745098, ..., 0.01568627, 0.01568627,\n",
       "         0.01568627],\n",
       "        ...,\n",
       "        [0.00392157, 0.00392157, 0.00392157, ..., 0.01568627, 0.01960784,\n",
       "         0.01960784],\n",
       "        [0.00392157, 0.00392157, 0.00392157, ..., 0.01960784, 0.01960784,\n",
       "         0.01960784],\n",
       "        [0.00392157, 0.00392157, 0.00392157, ..., 0.01960784, 0.01960784,\n",
       "         0.02352941]])]"
      ]
     },
     "execution_count": 27,
     "metadata": {},
     "output_type": "execute_result"
    }
   ],
   "source": [
    "train_quants = train['Copy number'].to_numpy().astype(float)\n",
    "train_examples = train['Images'].values.tolist()\n",
    "# train_examples[0][0]\n",
    "de_listed=[]\n",
    "for i in train_examples:\n",
    "    img = train_examples[:][0]\n",
    "    de_listed.append(img)\n",
    "de_listed\n",
    "# train_dataset = tf.data.Dataset.from_tensor_slices((train_examples, train_quants))\n",
    "# test_dataset = tf.data.Dataset.from_tensor_slices((test_examples, test_labels))"
   ]
  },
  {
   "cell_type": "code",
   "execution_count": null,
   "id": "cf03c9d1",
   "metadata": {},
   "outputs": [],
   "source": [
    "X_train = train['Copy number']\n",
    "X_test = test['Copy number']\n",
    "y_train = train['Images']\n",
    "y_test = test['Images']"
   ]
  },
  {
   "cell_type": "code",
   "execution_count": null,
   "id": "1c252203",
   "metadata": {},
   "outputs": [],
   "source": [
    "def simple_network():\n",
    "    model = tf.keras.Sequential()\n",
    "    model.add(tf.keras.layers.Dense(8))\n",
    "    model.add(tf.keras.layers.Dense(4))\n",
    "    model.compile(loss='mean_squared_error', optimizer='adam')\n",
    "    return model"
   ]
  },
  {
   "cell_type": "code",
   "execution_count": null,
   "id": "3f083663",
   "metadata": {},
   "outputs": [],
   "source": [
    "my_model = simple_network()\n",
    "my_model.summary()"
   ]
  },
  {
   "cell_type": "code",
   "execution_count": null,
   "id": "f952d7e0",
   "metadata": {},
   "outputs": [],
   "source": [
    "np.random.seed(seed)\n",
    "# create the NN framework\n",
    "estimator = KerasRegressor(build_fn=simple_network,\n",
    "        epochs=150, batch_size=10000, verbose=0)\n",
    "history = estimator.fit(X_train, y_train, validation_split=0.33, epochs=150, \n",
    "        batch_size=10000, verbose=1)"
   ]
  }
 ],
 "metadata": {
  "kernelspec": {
   "display_name": "Python 3 (ipykernel)",
   "language": "python",
   "name": "python3"
  },
  "language_info": {
   "codemirror_mode": {
    "name": "ipython",
    "version": 3
   },
   "file_extension": ".py",
   "mimetype": "text/x-python",
   "name": "python",
   "nbconvert_exporter": "python",
   "pygments_lexer": "ipython3",
   "version": "3.7.12"
  }
 },
 "nbformat": 4,
 "nbformat_minor": 5
}
