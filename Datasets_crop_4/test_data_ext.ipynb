{
 "cells": [
  {
   "cell_type": "code",
   "execution_count": 19,
   "id": "44760eed",
   "metadata": {},
   "outputs": [],
   "source": [
    "import numpy as np\n",
    "import pandas as pd"
   ]
  },
  {
   "cell_type": "code",
   "execution_count": 20,
   "id": "db9dc9c4",
   "metadata": {},
   "outputs": [],
   "source": [
    "import tensorflow as tf"
   ]
  },
  {
   "cell_type": "code",
   "execution_count": 21,
   "id": "e39281cc",
   "metadata": {},
   "outputs": [],
   "source": [
    "import tensorflow.keras.utils as tfu"
   ]
  },
  {
   "cell_type": "code",
   "execution_count": 22,
   "id": "d7100319",
   "metadata": {},
   "outputs": [],
   "source": [
    "import cv2"
   ]
  },
  {
   "cell_type": "code",
   "execution_count": 23,
   "id": "cd7f6937",
   "metadata": {},
   "outputs": [],
   "source": [
    "import os"
   ]
  },
  {
   "cell_type": "code",
   "execution_count": 24,
   "id": "0f12bf39",
   "metadata": {},
   "outputs": [],
   "source": [
    "foldername = 'All'"
   ]
  },
  {
   "cell_type": "code",
   "execution_count": 25,
   "id": "5397eb40",
   "metadata": {},
   "outputs": [],
   "source": [
    "list_names = os.listdir(foldername)"
   ]
  },
  {
   "cell_type": "code",
   "execution_count": 26,
   "id": "72bb92b9",
   "metadata": {},
   "outputs": [],
   "source": [
    "datas = []\n",
    "pathes = []"
   ]
  },
  {
   "cell_type": "code",
   "execution_count": 27,
   "id": "8859999d",
   "metadata": {},
   "outputs": [],
   "source": [
    "i=0\n",
    "for names in list_names:\n",
    "    imanames = os.listdir(foldername+'/'+names)\n",
    "    pathes.append(foldername+'/'+names+'/'+imanames[0])\n",
    "    datas.append(cv2.imread(foldername+'/'+names+'/'+imanames[0]))\n",
    "    i+=1"
   ]
  },
  {
   "cell_type": "code",
   "execution_count": 28,
   "id": "f7ed240f",
   "metadata": {
    "scrolled": true
   },
   "outputs": [],
   "source": [
    "from tensorflow.keras.utils import image_dataset_from_directory"
   ]
  },
  {
   "cell_type": "code",
   "execution_count": 29,
   "id": "d216c66d",
   "metadata": {},
   "outputs": [
    {
     "data": {
      "text/plain": [
       "['All/100/100.1.jpg',\n",
       " 'All/1000/1000.1.jpg',\n",
       " 'All/10000/10000.1.jpg',\n",
       " 'All/100000/100000.1.jpg',\n",
       " 'All/30/30.1.jpg',\n",
       " 'All/300/300.1.jpg',\n",
       " 'All/3000/3000.1.jpg']"
      ]
     },
     "execution_count": 29,
     "metadata": {},
     "output_type": "execute_result"
    }
   ],
   "source": [
    "pathes"
   ]
  },
  {
   "cell_type": "code",
   "execution_count": 30,
   "id": "5d386dc8",
   "metadata": {},
   "outputs": [],
   "source": [
    "from tensorflow.keras.utils import load_img"
   ]
  },
  {
   "cell_type": "code",
   "execution_count": 31,
   "id": "13dac822",
   "metadata": {
    "scrolled": true
   },
   "outputs": [],
   "source": [
    "imas = load_img(pathes[2])\n",
    "resized = tf.image.resize(imas,[900,900])"
   ]
  },
  {
   "cell_type": "code",
   "execution_count": 32,
   "id": "ef3ab1e4",
   "metadata": {},
   "outputs": [
    {
     "data": {
      "text/plain": [
       "TensorShape([900, 900, 3])"
      ]
     },
     "execution_count": 32,
     "metadata": {},
     "output_type": "execute_result"
    }
   ],
   "source": [
    "resized.shape"
   ]
  },
  {
   "cell_type": "code",
   "execution_count": 33,
   "id": "e3131350",
   "metadata": {},
   "outputs": [],
   "source": [
    "re_none = (None,resized)"
   ]
  },
  {
   "cell_type": "code",
   "execution_count": 34,
   "id": "a33fcd10",
   "metadata": {},
   "outputs": [
    {
     "data": {
      "text/plain": [
       "(None,\n",
       " <tf.Tensor: shape=(900, 900, 3), dtype=float32, numpy=\n",
       " array([[[ 1.        ,  1.        ,  1.        ],\n",
       "         [ 1.        ,  1.        ,  1.        ],\n",
       "         [ 1.        ,  1.        ,  1.        ],\n",
       "         ...,\n",
       "         [ 0.6833496 , 19.68335   ,  0.6833496 ],\n",
       "         [ 0.        , 19.        ,  0.        ],\n",
       "         [ 0.        , 19.        ,  0.        ]],\n",
       " \n",
       "        [[ 1.        ,  1.        ,  1.        ],\n",
       "         [ 1.        ,  1.        ,  1.        ],\n",
       "         [ 1.        ,  1.        ,  1.        ],\n",
       "         ...,\n",
       "         [ 0.8020935 , 19.802094  ,  0.8020935 ],\n",
       "         [ 0.15376282, 19.153763  ,  0.15376282],\n",
       "         [ 0.        , 19.        ,  0.        ]],\n",
       " \n",
       "        [[ 1.        ,  1.        ,  1.        ],\n",
       "         [ 1.        ,  1.        ,  1.        ],\n",
       "         [ 1.        ,  1.        ,  1.        ],\n",
       "         ...,\n",
       "         [ 1.        , 20.        ,  1.        ],\n",
       "         [ 0.41003418, 19.410034  ,  0.41003418],\n",
       "         [ 0.        , 19.        ,  0.        ]],\n",
       " \n",
       "        ...,\n",
       " \n",
       "        [[ 0.        , 13.        ,  0.        ],\n",
       "         [ 0.        , 13.41      ,  0.40999997],\n",
       "         [ 0.        , 14.        ,  1.        ],\n",
       "         ...,\n",
       "         [ 0.3166504 ,  1.6833496 ,  0.3166504 ],\n",
       "         [ 1.        ,  1.        ,  1.        ],\n",
       "         [ 1.        ,  1.        ,  1.        ]],\n",
       " \n",
       "        [[ 0.        , 13.        ,  0.        ],\n",
       "         [ 0.        , 13.41      ,  0.40999997],\n",
       "         [ 0.        , 14.        ,  1.        ],\n",
       "         ...,\n",
       "         [ 0.3166504 ,  1.6833496 ,  0.3166504 ],\n",
       "         [ 1.        ,  1.        ,  1.        ],\n",
       "         [ 1.        ,  1.        ,  1.        ]],\n",
       " \n",
       "        [[ 0.        , 13.        ,  0.        ],\n",
       "         [ 0.        , 13.41      ,  0.40999997],\n",
       "         [ 0.        , 14.        ,  1.        ],\n",
       "         ...,\n",
       "         [ 0.3166504 ,  1.6833496 ,  0.3166504 ],\n",
       "         [ 1.        ,  1.        ,  1.        ],\n",
       "         [ 1.        ,  1.        ,  1.        ]]], dtype=float32)>)"
      ]
     },
     "execution_count": 34,
     "metadata": {},
     "output_type": "execute_result"
    }
   ],
   "source": [
    "re_none"
   ]
  },
  {
   "cell_type": "code",
   "execution_count": 16,
   "id": "981faf1e",
   "metadata": {
    "scrolled": true
   },
   "outputs": [
    {
     "data": {
      "text/plain": [
       "(1125, 1146, 3)"
      ]
     },
     "execution_count": 16,
     "metadata": {},
     "output_type": "execute_result"
    }
   ],
   "source": [
    "tfu.img_to_array(imas).shape"
   ]
  },
  {
   "cell_type": "code",
   "execution_count": 45,
   "id": "d03ffd8b",
   "metadata": {},
   "outputs": [],
   "source": [
    "import sys\n",
    "sys.path.insert(0,'..')"
   ]
  },
  {
   "cell_type": "code",
   "execution_count": 54,
   "id": "8c33c652",
   "metadata": {},
   "outputs": [],
   "source": [
    "from qiaml.autocrop import crop"
   ]
  },
  {
   "cell_type": "code",
   "execution_count": 57,
   "id": "badee9df",
   "metadata": {},
   "outputs": [],
   "source": [
    "dattest = crop(pathes[1])"
   ]
  },
  {
   "cell_type": "code",
   "execution_count": 60,
   "id": "c1c20bca",
   "metadata": {},
   "outputs": [
    {
     "data": {
      "text/plain": [
       "(835, 835, 3)"
      ]
     },
     "execution_count": 60,
     "metadata": {},
     "output_type": "execute_result"
    }
   ],
   "source": [
    "np.shape(dattest)"
   ]
  },
  {
   "cell_type": "code",
   "execution_count": 61,
   "id": "80e9492e",
   "metadata": {},
   "outputs": [],
   "source": [
    "resized = tf.image.resize(dattest,[900,900])"
   ]
  },
  {
   "cell_type": "code",
   "execution_count": 63,
   "id": "f3b9d949",
   "metadata": {},
   "outputs": [
    {
     "data": {
      "text/plain": [
       "TensorShape([900, 900, 3])"
      ]
     },
     "execution_count": 63,
     "metadata": {},
     "output_type": "execute_result"
    }
   ],
   "source": [
    "np.shape(resized)"
   ]
  },
  {
   "cell_type": "code",
   "execution_count": 67,
   "id": "83d43e29",
   "metadata": {},
   "outputs": [
    {
     "data": {
      "text/plain": [
       "<tf.Tensor: shape=(900, 3), dtype=float32, numpy=\n",
       "array([[ 0.      , 23.      ,  0.      ],\n",
       "       [ 0.      , 23.      ,  0.      ],\n",
       "       [ 0.      , 23.819445,  0.      ],\n",
       "       ...,\n",
       "       [ 0.      , 11.      ,  0.      ],\n",
       "       [ 0.      , 11.      ,  0.      ],\n",
       "       [ 0.      , 11.      ,  0.      ]], dtype=float32)>"
      ]
     },
     "execution_count": 67,
     "metadata": {},
     "output_type": "execute_result"
    }
   ],
   "source": []
  },
  {
   "cell_type": "code",
   "execution_count": null,
   "id": "5637eb38",
   "metadata": {},
   "outputs": [],
   "source": []
  },
  {
   "cell_type": "code",
   "execution_count": null,
   "id": "7ac12e78",
   "metadata": {},
   "outputs": [],
   "source": []
  },
  {
   "cell_type": "code",
   "execution_count": null,
   "id": "7e00a20a",
   "metadata": {},
   "outputs": [],
   "source": []
  }
 ],
 "metadata": {
  "kernelspec": {
   "display_name": "Python 3 (ipykernel)",
   "language": "python",
   "name": "python3"
  },
  "language_info": {
   "codemirror_mode": {
    "name": "ipython",
    "version": 3
   },
   "file_extension": ".py",
   "mimetype": "text/x-python",
   "name": "python",
   "nbconvert_exporter": "python",
   "pygments_lexer": "ipython3",
   "version": "3.9.10"
  }
 },
 "nbformat": 4,
 "nbformat_minor": 5
}
