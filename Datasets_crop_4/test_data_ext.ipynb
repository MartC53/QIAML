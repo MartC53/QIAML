{
 "cells": [
  {
   "cell_type": "code",
   "execution_count": 38,
   "id": "44760eed",
   "metadata": {},
   "outputs": [],
   "source": [
    "import numpy as np\n",
    "import pandas as pd\n",
    "from matplotlib import pyplot as plt\n",
    "import tensorflow as tf\n",
    "import tensorflow.keras.utils as tfu\n",
    "import PIL\n",
    "import PIL.Image\n",
    "import cv2\n",
    "import os\n",
    "from tensorflow.keras.utils import image_dataset_from_directory\n",
    "from tensorflow.keras.utils import load_img"
   ]
  },
  {
   "cell_type": "code",
   "execution_count": 39,
   "id": "0f12bf39",
   "metadata": {},
   "outputs": [],
   "source": [
    "foldername = 'All'"
   ]
  },
  {
   "cell_type": "code",
   "execution_count": 40,
   "id": "5397eb40",
   "metadata": {},
   "outputs": [],
   "source": [
    "list_names = os.listdir(foldername)"
   ]
  },
  {
   "cell_type": "code",
   "execution_count": 41,
   "id": "72bb92b9",
   "metadata": {},
   "outputs": [],
   "source": [
    "datas = []\n",
    "pathes = []\n",
    "imname_all = []\n",
    "pathes_only = []"
   ]
  },
  {
   "cell_type": "code",
   "execution_count": 42,
   "id": "8859999d",
   "metadata": {},
   "outputs": [],
   "source": [
    "i=0\n",
    "for names in list_names:\n",
    "    imanames = os.listdir(foldername+'/'+names)\n",
    "    for j in range(0,5):\n",
    "        try:\n",
    "            pathes.append(foldername+'/'+names+'/'+imanames[j])\n",
    "            imname_all.append(imanames[j])\n",
    "            pathes_only.append(foldername+'/'+names)\n",
    "        except:\n",
    "            pass\n",
    "    datas.append(cv2.imread(foldername+'/'+names+'/'+imanames[0]))\n",
    "    i+=1"
   ]
  },
  {
   "cell_type": "code",
   "execution_count": 43,
   "id": "dc290541",
   "metadata": {},
   "outputs": [
    {
     "data": {
      "text/plain": [
       "19"
      ]
     },
     "execution_count": 43,
     "metadata": {},
     "output_type": "execute_result"
    }
   ],
   "source": [
    "len(imname_all)"
   ]
  },
  {
   "cell_type": "code",
   "execution_count": 44,
   "id": "af3fead8",
   "metadata": {
    "collapsed": true
   },
   "outputs": [
    {
     "data": {
      "text/plain": [
       "['100.1.jpg',\n",
       " '100.2.jpg',\n",
       " '100.3.jpg',\n",
       " '1000.1.jpg',\n",
       " '1000.2.jpg',\n",
       " '1000.3.jpg',\n",
       " '10000.1.jpg',\n",
       " '10000.2.jpg',\n",
       " '10000.3.jpg',\n",
       " '100000.1.jpg',\n",
       " '30.1.jpg',\n",
       " '30.2.jpg',\n",
       " '30.3.jpg',\n",
       " '300.1.jpg',\n",
       " '300.2.jpg',\n",
       " '300.3.jpg',\n",
       " '3000.1.jpg',\n",
       " '3000.2.jpg',\n",
       " '3000.3.jpg']"
      ]
     },
     "execution_count": 44,
     "metadata": {},
     "output_type": "execute_result"
    }
   ],
   "source": [
    "imname_all"
   ]
  },
  {
   "cell_type": "code",
   "execution_count": 45,
   "id": "16dc51ef",
   "metadata": {},
   "outputs": [],
   "source": [
    "def img_cut_4(path):\n",
    "    img = cv2.imread(path)\n",
    "\n",
    "    # cv2.imread() -> takes an image as an input\n",
    "    h, w, channels = img.shape\n",
    "\n",
    "    half = w//2\n",
    "    half2 = h//2\n",
    "    \n",
    "    P1 = img[:half2, :half] \n",
    "    P2 = img[:half2, half:]\n",
    "    P3 = img[half2:, :half]\n",
    "    P4 = img[half2:, half:]\n",
    "    \n",
    "    return P1,P2,P3,P4"
   ]
  },
  {
   "cell_type": "code",
   "execution_count": 46,
   "id": "2412ec7d",
   "metadata": {},
   "outputs": [],
   "source": [
    "for i in range(len(pathes_only)):\n",
    "    P1,P2,P3,P4 = img_cut_4(pathes[i])\n",
    "    for ii in range(1,5):\n",
    "        try:\n",
    "            os.makedirs('P'+str(ii)+'_'+pathes_only[i])\n",
    "        except:\n",
    "            pass\n",
    "    cv2.imwrite(os.path.join('P1_'+pathes_only[i] , imname_all[i]), P1)\n",
    "    cv2.imwrite(os.path.join('P2_'+pathes_only[i] , imname_all[i]), P2)\n",
    "    cv2.imwrite(os.path.join('P3_'+pathes_only[i] , imname_all[i]), P3)\n",
    "    cv2.imwrite(os.path.join('P4_'+pathes_only[i] , imname_all[i]), P4)"
   ]
  },
  {
   "cell_type": "code",
   "execution_count": null,
   "id": "25b8fbfe",
   "metadata": {},
   "outputs": [],
   "source": []
  }
 ],
 "metadata": {
  "kernelspec": {
   "display_name": "Python 3 (ipykernel)",
   "language": "python",
   "name": "python3"
  },
  "language_info": {
   "codemirror_mode": {
    "name": "ipython",
    "version": 3
   },
   "file_extension": ".py",
   "mimetype": "text/x-python",
   "name": "python",
   "nbconvert_exporter": "python",
   "pygments_lexer": "ipython3",
   "version": "3.9.10"
  }
 },
 "nbformat": 4,
 "nbformat_minor": 5
}
